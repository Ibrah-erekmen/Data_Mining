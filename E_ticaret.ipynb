{
  "nbformat": 4,
  "nbformat_minor": 0,
  "metadata": {
    "colab": {
      "name": "E_ticaret.ipynb",
      "provenance": [],
      "collapsed_sections": []
    },
    "kernelspec": {
      "name": "python3",
      "display_name": "Python 3"
    },
    "language_info": {
      "name": "python"
    }
  },
  "cells": [
    {
      "cell_type": "markdown",
      "metadata": {
        "id": "zDXOOiVsk-HZ"
      },
      "source": [
        "#E-Ticaret Veri Analizi"
      ]
    },
    {
      "cell_type": "markdown",
      "metadata": {
        "id": "ETqCdj-CZe5u"
      },
      "source": [
        "##E-ticaret Nedir?"
      ]
    },
    {
      "cell_type": "markdown",
      "metadata": {
        "id": "mBZcN_oDYVLx"
      },
      "source": [
        "**E-ticaret Tanımı**"
      ]
    },
    {
      "cell_type": "markdown",
      "metadata": {
        "id": "iCVKkUCaYiuD"
      },
      "source": [
        "Elektronik ticaret ya da kısaca e-ticaret, 1995 yılından sonra İnternet kullanımının artmasıyla ortaya çıkan, ticaretin elektronik ortamda yapılması kavramıdır.\n",
        "\n",
        "![images.jpg](data:image/jpeg;base64,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)"
      ]
    },
    {
      "cell_type": "markdown",
      "metadata": {
        "id": "lbbvb7pQZt3r"
      },
      "source": [
        "**E-ticaretin Amacı**\n"
      ]
    },
    {
      "cell_type": "markdown",
      "metadata": {
        "id": "AQSq1mzEZ227"
      },
      "source": [
        "E-ticaretin amacı, ürün ve hizmetlerin müşteriye hızlı ve sorunsuz bir şekilde ulaştırılmasıdır. Bu sayede satıcılar pazar potansiyelleri ve büyüklüklerini artırırken, alıcılar da geniş ürün seçeneği, net ürün bilgileri, uygun fiyatlar ve kaliteli teslimat fırsatlarından yararlanmış olurlar."
      ]
    },
    {
      "cell_type": "markdown",
      "metadata": {
        "id": "FhSLdiVYZ6LI"
      },
      "source": [
        "**E-Ticaret Kullanıcıları**\n"
      ]
    },
    {
      "cell_type": "markdown",
      "metadata": {
        "id": "onRPghkpaFa1"
      },
      "source": [
        "E-ticaret; şahıslar, firmalar ve kamu kurumları arasında gerçekleşebilir. Dolayısıyla çok geniş bir kullanıcı ağı bulunur:\n",
        "\n",
        "·Bireyler\n",
        "\n",
        "·Küçük ve orta büyüklükteki işletmeler (KOBİ)\n",
        "\n",
        "·Büyük sermaye firmaları\n",
        "\n",
        "·Kamu kuruluşları\n",
        "\n",
        "·Bankalar\n",
        "\n",
        "·Sigorta şirketleri\n",
        "\n",
        "·Perakende satış noktaları, butik mağazalar, market zincirleri ve de\n",
        "\n",
        "·İkinci el eşya\n",
        "\n",
        "·Pazarlama\n",
        "\n",
        "·Eğitim, eğlence, gıda, giyim gibi pek çok sektör tarafından kullanılabilir."
      ]
    },
    {
      "cell_type": "markdown",
      "metadata": {
        "id": "mHFq2v5baKJa"
      },
      "source": [
        "**E-Ticaretin Avantajları**"
      ]
    },
    {
      "cell_type": "markdown",
      "metadata": {
        "id": "zwUE7NstaMDK"
      },
      "source": [
        "Dünyanın doğal bir sınırı olduğu için aslında pazarın, yani şirketler olarak büyüyebileceğiniz alanın da bir sınırı vardır. Ancak e-ticaret, gelişmiş lojistik ve tedarik zinciriyle beraber bu sınırları neredeyse tamamen ortadan kaldırıyor. Aynı pazara tekrar tekrar ve çok kısa sürede satış yapma imkânı sunuyor. Üstelik dijital araçların artması ile birlikte pazarlama yöntemleri de sürekli gelişiyor."
      ]
    },
    {
      "cell_type": "markdown",
      "metadata": {
        "id": "B3cuN8AvaZse"
      },
      "source": [
        "**E-Ticaret Türleri**"
      ]
    },
    {
      "cell_type": "markdown",
      "metadata": {
        "id": "QTpd0mJdaYN9"
      },
      "source": [
        "\n",
        "·Business to Business (B2B) – Şirketler Arası E-Ticaret\n",
        "\n",
        "·Business to Consumer (B2C) – Firmadan Tüketiciye E-Ticaret\n",
        "\n",
        "·Consumer to Business (C2B) –  Tüketiciden Firmaya E-Ticaret\n",
        "\n",
        "·Consumer to Consumer (C2C) – Tüketiciden Tüketiciye E-Ticaret\n",
        "\n",
        "·Business to Employee (B2E) – Firmadan Çalışanlarına E-Ticaret"
      ]
    },
    {
      "cell_type": "markdown",
      "metadata": {
        "id": "38FHfQA_lD6o"
      },
      "source": [
        "##Veri Yükleme"
      ]
    },
    {
      "cell_type": "code",
      "metadata": {
        "id": "5FC2U18PMRY0"
      },
      "source": [
        "import pandas as pd\n",
        "import matplotlib.pyplot as plt\n",
        "import numpy as np\n",
        "import seaborn as sns"
      ],
      "execution_count": 1,
      "outputs": []
    },
    {
      "cell_type": "markdown",
      "metadata": {
        "id": "4n-dJe_eSsn8"
      },
      "source": [
        "Verileri bilgisayardan yükledim."
      ]
    },
    {
      "cell_type": "code",
      "metadata": {
        "colab": {
          "resources": {
            "http://localhost:8080/nbextensions/google.colab/files.js": {
              "data": "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",
              "ok": true,
              "headers": [
                [
                  "content-type",
                  "application/javascript"
                ]
              ],
              "status": 200,
              "status_text": ""
            }
          },
          "base_uri": "https://localhost:8080/",
          "height": 446
        },
        "id": "Rhpg2PvXMvdk",
        "outputId": "76954eda-45bf-4119-8ee4-71e5672b0836"
      },
      "source": [
        "from google.colab import files\n",
        "uploaded = files.upload()"
      ],
      "execution_count": 2,
      "outputs": [
        {
          "output_type": "display_data",
          "data": {
            "text/html": [
              "\n",
              "     <input type=\"file\" id=\"files-c05d29b2-e7ad-48d8-8135-5a8e49808f78\" name=\"files[]\" multiple disabled\n",
              "        style=\"border:none\" />\n",
              "     <output id=\"result-c05d29b2-e7ad-48d8-8135-5a8e49808f78\">\n",
              "      Upload widget is only available when the cell has been executed in the\n",
              "      current browser session. Please rerun this cell to enable.\n",
              "      </output>\n",
              "      <script src=\"/nbextensions/google.colab/files.js\"></script> "
            ],
            "text/plain": [
              "<IPython.core.display.HTML object>"
            ]
          },
          "metadata": {
            "tags": []
          }
        },
        {
          "output_type": "stream",
          "text": [
            "Saving Sales_April_2019.csv to Sales_April_2019.csv\n",
            "Saving Sales_August_2019.csv to Sales_August_2019.csv\n",
            "Saving Sales_December_2019.csv to Sales_December_2019.csv\n",
            "Saving Sales_February_2019.csv to Sales_February_2019.csv\n",
            "Saving Sales_January_2019.csv to Sales_January_2019.csv\n",
            "Saving Sales_July_2019.csv to Sales_July_2019.csv\n",
            "Saving Sales_June_2019.csv to Sales_June_2019.csv\n",
            "Saving Sales_March_2019.csv to Sales_March_2019.csv\n",
            "Saving Sales_May_2019.csv to Sales_May_2019.csv\n",
            "Saving Sales_November_2019.csv to Sales_November_2019.csv\n",
            "Saving Sales_October_2019.csv to Sales_October_2019.csv\n",
            "Saving Sales_September_2019.csv to Sales_September_2019.csv\n"
          ],
          "name": "stdout"
        }
      ]
    },
    {
      "cell_type": "markdown",
      "metadata": {
        "id": "1fbtJ6CXSw13"
      },
      "source": [
        "Bütün verileri ay ay bir veri çerçevesine atadım."
      ]
    },
    {
      "cell_type": "code",
      "metadata": {
        "id": "PHQeDorIMyHi"
      },
      "source": [
        "Jan=pd.read_csv(\"Sales_January_2019.csv\")\n",
        "Feb=pd.read_csv(\"Sales_February_2019.csv\")\n",
        "March=pd.read_csv(\"Sales_March_2019.csv\")\n",
        "Apr=pd.read_csv(\"Sales_April_2019.csv\")\n",
        "May=pd.read_csv(\"Sales_May_2019.csv\")\n",
        "June=pd.read_csv(\"Sales_June_2019.csv\")\n",
        "July=pd.read_csv(\"Sales_July_2019.csv\")\n",
        "Aug=pd.read_csv(\"Sales_August_2019.csv\")\n",
        "Sep=pd.read_csv(\"Sales_September_2019.csv\")\n",
        "Oct=pd.read_csv(\"Sales_October_2019.csv\")\n",
        "Nov=pd.read_csv(\"Sales_November_2019.csv\")\n",
        "Dec=pd.read_csv(\"Sales_December_2019.csv\")"
      ],
      "execution_count": 3,
      "outputs": []
    },
    {
      "cell_type": "markdown",
      "metadata": {
        "id": "38w__KE3S9rs"
      },
      "source": [
        "Daha sonra bunları tek bir veri çerçevesinde topladım."
      ]
    },
    {
      "cell_type": "code",
      "metadata": {
        "id": "1fb2pFHLRZsN"
      },
      "source": [
        "df=pd.concat([Jan,Feb,March,Apr,May,June,July,Aug,Sep,Oct,Nov,Dec])"
      ],
      "execution_count": 4,
      "outputs": []
    },
    {
      "cell_type": "code",
      "metadata": {
        "colab": {
          "base_uri": "https://localhost:8080/",
          "height": 419
        },
        "id": "im8QIAhnRnPa",
        "outputId": "a53530f3-b4b1-4a0f-de5a-8bc2cc8ca0b2"
      },
      "source": [
        "df"
      ],
      "execution_count": null,
      "outputs": [
        {
          "output_type": "execute_result",
          "data": {
            "text/html": [
              "<div>\n",
              "<style scoped>\n",
              "    .dataframe tbody tr th:only-of-type {\n",
              "        vertical-align: middle;\n",
              "    }\n",
              "\n",
              "    .dataframe tbody tr th {\n",
              "        vertical-align: top;\n",
              "    }\n",
              "\n",
              "    .dataframe thead th {\n",
              "        text-align: right;\n",
              "    }\n",
              "</style>\n",
              "<table border=\"1\" class=\"dataframe\">\n",
              "  <thead>\n",
              "    <tr style=\"text-align: right;\">\n",
              "      <th></th>\n",
              "      <th>Order ID</th>\n",
              "      <th>Product</th>\n",
              "      <th>Quantity Ordered</th>\n",
              "      <th>Price Each</th>\n",
              "      <th>Order Date</th>\n",
              "      <th>Purchase Address</th>\n",
              "    </tr>\n",
              "  </thead>\n",
              "  <tbody>\n",
              "    <tr>\n",
              "      <th>0</th>\n",
              "      <td>141234</td>\n",
              "      <td>iPhone</td>\n",
              "      <td>1</td>\n",
              "      <td>700</td>\n",
              "      <td>01/22/19 21:25</td>\n",
              "      <td>944 Walnut St, Boston, MA 02215</td>\n",
              "    </tr>\n",
              "    <tr>\n",
              "      <th>1</th>\n",
              "      <td>141235</td>\n",
              "      <td>Lightning Charging Cable</td>\n",
              "      <td>1</td>\n",
              "      <td>14.95</td>\n",
              "      <td>01/28/19 14:15</td>\n",
              "      <td>185 Maple St, Portland, OR 97035</td>\n",
              "    </tr>\n",
              "    <tr>\n",
              "      <th>2</th>\n",
              "      <td>141236</td>\n",
              "      <td>Wired Headphones</td>\n",
              "      <td>2</td>\n",
              "      <td>11.99</td>\n",
              "      <td>01/17/19 13:33</td>\n",
              "      <td>538 Adams St, San Francisco, CA 94016</td>\n",
              "    </tr>\n",
              "    <tr>\n",
              "      <th>3</th>\n",
              "      <td>141237</td>\n",
              "      <td>27in FHD Monitor</td>\n",
              "      <td>1</td>\n",
              "      <td>149.99</td>\n",
              "      <td>01/05/19 20:33</td>\n",
              "      <td>738 10th St, Los Angeles, CA 90001</td>\n",
              "    </tr>\n",
              "    <tr>\n",
              "      <th>4</th>\n",
              "      <td>141238</td>\n",
              "      <td>Wired Headphones</td>\n",
              "      <td>1</td>\n",
              "      <td>11.99</td>\n",
              "      <td>01/25/19 11:59</td>\n",
              "      <td>387 10th St, Austin, TX 73301</td>\n",
              "    </tr>\n",
              "    <tr>\n",
              "      <th>...</th>\n",
              "      <td>...</td>\n",
              "      <td>...</td>\n",
              "      <td>...</td>\n",
              "      <td>...</td>\n",
              "      <td>...</td>\n",
              "      <td>...</td>\n",
              "    </tr>\n",
              "    <tr>\n",
              "      <th>25112</th>\n",
              "      <td>319666</td>\n",
              "      <td>Lightning Charging Cable</td>\n",
              "      <td>1</td>\n",
              "      <td>14.95</td>\n",
              "      <td>12/11/19 20:58</td>\n",
              "      <td>14 Madison St, San Francisco, CA 94016</td>\n",
              "    </tr>\n",
              "    <tr>\n",
              "      <th>25113</th>\n",
              "      <td>319667</td>\n",
              "      <td>AA Batteries (4-pack)</td>\n",
              "      <td>2</td>\n",
              "      <td>3.84</td>\n",
              "      <td>12/01/19 12:01</td>\n",
              "      <td>549 Willow St, Los Angeles, CA 90001</td>\n",
              "    </tr>\n",
              "    <tr>\n",
              "      <th>25114</th>\n",
              "      <td>319668</td>\n",
              "      <td>Vareebadd Phone</td>\n",
              "      <td>1</td>\n",
              "      <td>400</td>\n",
              "      <td>12/09/19 06:43</td>\n",
              "      <td>273 Wilson St, Seattle, WA 98101</td>\n",
              "    </tr>\n",
              "    <tr>\n",
              "      <th>25115</th>\n",
              "      <td>319669</td>\n",
              "      <td>Wired Headphones</td>\n",
              "      <td>1</td>\n",
              "      <td>11.99</td>\n",
              "      <td>12/03/19 10:39</td>\n",
              "      <td>778 River St, Dallas, TX 75001</td>\n",
              "    </tr>\n",
              "    <tr>\n",
              "      <th>25116</th>\n",
              "      <td>319670</td>\n",
              "      <td>Bose SoundSport Headphones</td>\n",
              "      <td>1</td>\n",
              "      <td>99.99</td>\n",
              "      <td>12/21/19 21:45</td>\n",
              "      <td>747 Chestnut St, Los Angeles, CA 90001</td>\n",
              "    </tr>\n",
              "  </tbody>\n",
              "</table>\n",
              "<p>186850 rows × 6 columns</p>\n",
              "</div>"
            ],
            "text/plain": [
              "      Order ID  ...                        Purchase Address\n",
              "0       141234  ...         944 Walnut St, Boston, MA 02215\n",
              "1       141235  ...        185 Maple St, Portland, OR 97035\n",
              "2       141236  ...   538 Adams St, San Francisco, CA 94016\n",
              "3       141237  ...      738 10th St, Los Angeles, CA 90001\n",
              "4       141238  ...           387 10th St, Austin, TX 73301\n",
              "...        ...  ...                                     ...\n",
              "25112   319666  ...  14 Madison St, San Francisco, CA 94016\n",
              "25113   319667  ...    549 Willow St, Los Angeles, CA 90001\n",
              "25114   319668  ...        273 Wilson St, Seattle, WA 98101\n",
              "25115   319669  ...          778 River St, Dallas, TX 75001\n",
              "25116   319670  ...  747 Chestnut St, Los Angeles, CA 90001\n",
              "\n",
              "[186850 rows x 6 columns]"
            ]
          },
          "metadata": {
            "tags": []
          },
          "execution_count": 5
        }
      ]
    },
    {
      "cell_type": "markdown",
      "metadata": {
        "id": "EzK0dM--TFWt"
      },
      "source": [
        "##Veri Ön İşleme"
      ]
    },
    {
      "cell_type": "code",
      "metadata": {
        "colab": {
          "base_uri": "https://localhost:8080/"
        },
        "id": "cQ9SvIakSeNI",
        "outputId": "d5ecd511-c6f1-45b2-82a7-77278a3d2d77"
      },
      "source": [
        "df.isnull().any()"
      ],
      "execution_count": null,
      "outputs": [
        {
          "output_type": "execute_result",
          "data": {
            "text/plain": [
              "Order ID            True\n",
              "Product             True\n",
              "Quantity Ordered    True\n",
              "Price Each          True\n",
              "Order Date          True\n",
              "Purchase Address    True\n",
              "dtype: bool"
            ]
          },
          "metadata": {
            "tags": []
          },
          "execution_count": 6
        }
      ]
    },
    {
      "cell_type": "code",
      "metadata": {
        "id": "5TMVLFxRRn0C"
      },
      "source": [
        "df.dropna(inplace = True)"
      ],
      "execution_count": 5,
      "outputs": []
    },
    {
      "cell_type": "code",
      "metadata": {
        "colab": {
          "base_uri": "https://localhost:8080/"
        },
        "id": "sticiHxjSiVL",
        "outputId": "da6654a4-2d55-4a42-bb03-482c8bc33e52"
      },
      "source": [
        "df.isnull().any()"
      ],
      "execution_count": null,
      "outputs": [
        {
          "output_type": "execute_result",
          "data": {
            "text/plain": [
              "Order ID            False\n",
              "Product             False\n",
              "Quantity Ordered    False\n",
              "Price Each          False\n",
              "Order Date          False\n",
              "Purchase Address    False\n",
              "dtype: bool"
            ]
          },
          "metadata": {
            "tags": []
          },
          "execution_count": 10
        }
      ]
    },
    {
      "cell_type": "markdown",
      "metadata": {
        "id": "PfnuihSvirk8"
      },
      "source": [
        "Bazı satırlarda kolon isimleri var bunları silmek isteyebiliriz."
      ]
    },
    {
      "cell_type": "code",
      "metadata": {
        "id": "3XBdzMczTJT7"
      },
      "source": [
        "str_list={'Purchase Address','Order Date','Price Each','Quantity Ordered','Product','Order ID'}\n",
        "for i in str_list:\n",
        "  df.replace({i: np.nan}, inplace = True)"
      ],
      "execution_count": 6,
      "outputs": []
    },
    {
      "cell_type": "code",
      "metadata": {
        "colab": {
          "base_uri": "https://localhost:8080/"
        },
        "id": "_FSHToafVl3p",
        "outputId": "ea053ff1-2fba-45d9-cb5a-232f0aa5447c"
      },
      "source": [
        "df.isnull().any()"
      ],
      "execution_count": null,
      "outputs": [
        {
          "output_type": "execute_result",
          "data": {
            "text/plain": [
              "Order ID            True\n",
              "Product             True\n",
              "Quantity Ordered    True\n",
              "Price Each          True\n",
              "Order Date          True\n",
              "Purchase Address    True\n",
              "dtype: bool"
            ]
          },
          "metadata": {
            "tags": []
          },
          "execution_count": 31
        }
      ]
    },
    {
      "cell_type": "code",
      "metadata": {
        "id": "ibCFQI8ZVqR2"
      },
      "source": [
        "df.dropna(inplace = True)"
      ],
      "execution_count": 7,
      "outputs": []
    },
    {
      "cell_type": "code",
      "metadata": {
        "colab": {
          "base_uri": "https://localhost:8080/"
        },
        "id": "wVGkMel5Vq5c",
        "outputId": "5533aabd-1514-46d5-f58d-659468f4948e"
      },
      "source": [
        "df.isnull().any()"
      ],
      "execution_count": null,
      "outputs": [
        {
          "output_type": "execute_result",
          "data": {
            "text/plain": [
              "Order ID            False\n",
              "Product             False\n",
              "Quantity Ordered    False\n",
              "Price Each          False\n",
              "Order Date          False\n",
              "Purchase Address    False\n",
              "dtype: bool"
            ]
          },
          "metadata": {
            "tags": []
          },
          "execution_count": 33
        }
      ]
    },
    {
      "cell_type": "markdown",
      "metadata": {
        "id": "5ZtvgGrTVt13"
      },
      "source": [
        "Nan değerleri ve gereksiz bilgi içeren satırları sildik."
      ]
    },
    {
      "cell_type": "code",
      "metadata": {
        "colab": {
          "base_uri": "https://localhost:8080/"
        },
        "id": "LBJ1rss0Wu1t",
        "outputId": "6df9755f-a26a-4130-e5f1-88bf57017e09"
      },
      "source": [
        "print(np.dtype(df['Price Each']),np.dtype(df['Quantity Ordered']))"
      ],
      "execution_count": null,
      "outputs": [
        {
          "output_type": "stream",
          "text": [
            "object object\n"
          ],
          "name": "stdout"
        }
      ]
    },
    {
      "cell_type": "markdown",
      "metadata": {
        "id": "6VZFiiL5XJa9"
      },
      "source": [
        "object olan sütuları ondalıklı değere dönüştürmeliyiz ki işlem yapabilelim."
      ]
    },
    {
      "cell_type": "code",
      "metadata": {
        "id": "umJvhIHYVstJ"
      },
      "source": [
        "df['Price Each']= pd.to_numeric(df['Price Each'],errors='coerce')\n"
      ],
      "execution_count": 15,
      "outputs": []
    },
    {
      "cell_type": "code",
      "metadata": {
        "id": "PxVbEmqxbI81"
      },
      "source": [
        "df['Quantity Ordered']= pd.to_numeric(df['Quantity Ordered'],errors='coerce')"
      ],
      "execution_count": 16,
      "outputs": []
    },
    {
      "cell_type": "code",
      "metadata": {
        "colab": {
          "base_uri": "https://localhost:8080/"
        },
        "id": "-iBYIqFvXY33",
        "outputId": "a10b4323-1c9a-4603-aac0-259f6bbbae16"
      },
      "source": [
        "print(np.dtype(df['Price Each']),np.dtype(df['Quantity Ordered']))"
      ],
      "execution_count": null,
      "outputs": [
        {
          "output_type": "stream",
          "text": [
            "float64 int64\n"
          ],
          "name": "stdout"
        }
      ]
    },
    {
      "cell_type": "markdown",
      "metadata": {
        "id": "bT1O03MilUe0"
      },
      "source": [
        "##Veri Analizi"
      ]
    },
    {
      "cell_type": "markdown",
      "metadata": {
        "id": "uwHsf32hi_kA"
      },
      "source": [
        "Sipariş tarihinden ayları çekmek için split metodununu kullandım.\n",
        "Aylardan sözlük oluşturduktan sonra sayılarla ayların yerini değiştirdim. Örneğin  1 numaralı ay = Ocak gibi."
      ]
    },
    {
      "cell_type": "code",
      "metadata": {
        "colab": {
          "base_uri": "https://localhost:8080/",
          "height": 204
        },
        "id": "UO8LaCV54wMW",
        "outputId": "c8bed0e6-a937-493e-f4cb-3cb63e31b779"
      },
      "source": [
        "p=df['Order Date'].str.split(\"/\", n = 2, expand = True)\n",
        "df['Month']=p[0]\n",
        "df['Month']=p[0].astype(int)\n",
        "month_dict={1:\"January\",2:\"February\",3:\"March\",4:\"April\",5:\"May\",6:\"June\",7:\"July\",8:\"August\",9:\"September\",10:\"October\",11:\"November\",12:\"December\"}\n",
        "for i in range(1,13):\n",
        "  df['Month'].replace({i: month_dict[i]}, inplace = True)\n",
        "df.head()"
      ],
      "execution_count": 27,
      "outputs": [
        {
          "output_type": "execute_result",
          "data": {
            "text/html": [
              "<div>\n",
              "<style scoped>\n",
              "    .dataframe tbody tr th:only-of-type {\n",
              "        vertical-align: middle;\n",
              "    }\n",
              "\n",
              "    .dataframe tbody tr th {\n",
              "        vertical-align: top;\n",
              "    }\n",
              "\n",
              "    .dataframe thead th {\n",
              "        text-align: right;\n",
              "    }\n",
              "</style>\n",
              "<table border=\"1\" class=\"dataframe\">\n",
              "  <thead>\n",
              "    <tr style=\"text-align: right;\">\n",
              "      <th></th>\n",
              "      <th>Order ID</th>\n",
              "      <th>Product</th>\n",
              "      <th>Quantity Ordered</th>\n",
              "      <th>Price Each</th>\n",
              "      <th>Order Date</th>\n",
              "      <th>Purchase Address</th>\n",
              "      <th>Month</th>\n",
              "      <th>Sales</th>\n",
              "    </tr>\n",
              "  </thead>\n",
              "  <tbody>\n",
              "    <tr>\n",
              "      <th>0</th>\n",
              "      <td>141234</td>\n",
              "      <td>iPhone</td>\n",
              "      <td>1</td>\n",
              "      <td>700.00</td>\n",
              "      <td>01/22/19 21:25</td>\n",
              "      <td>944 Walnut St, Boston, MA 02215</td>\n",
              "      <td>January</td>\n",
              "      <td>700.00</td>\n",
              "    </tr>\n",
              "    <tr>\n",
              "      <th>1</th>\n",
              "      <td>141235</td>\n",
              "      <td>Lightning Charging Cable</td>\n",
              "      <td>1</td>\n",
              "      <td>14.95</td>\n",
              "      <td>01/28/19 14:15</td>\n",
              "      <td>185 Maple St, Portland, OR 97035</td>\n",
              "      <td>January</td>\n",
              "      <td>14.95</td>\n",
              "    </tr>\n",
              "    <tr>\n",
              "      <th>2</th>\n",
              "      <td>141236</td>\n",
              "      <td>Wired Headphones</td>\n",
              "      <td>2</td>\n",
              "      <td>11.99</td>\n",
              "      <td>01/17/19 13:33</td>\n",
              "      <td>538 Adams St, San Francisco, CA 94016</td>\n",
              "      <td>January</td>\n",
              "      <td>23.98</td>\n",
              "    </tr>\n",
              "    <tr>\n",
              "      <th>3</th>\n",
              "      <td>141237</td>\n",
              "      <td>27in FHD Monitor</td>\n",
              "      <td>1</td>\n",
              "      <td>149.99</td>\n",
              "      <td>01/05/19 20:33</td>\n",
              "      <td>738 10th St, Los Angeles, CA 90001</td>\n",
              "      <td>January</td>\n",
              "      <td>149.99</td>\n",
              "    </tr>\n",
              "    <tr>\n",
              "      <th>4</th>\n",
              "      <td>141238</td>\n",
              "      <td>Wired Headphones</td>\n",
              "      <td>1</td>\n",
              "      <td>11.99</td>\n",
              "      <td>01/25/19 11:59</td>\n",
              "      <td>387 10th St, Austin, TX 73301</td>\n",
              "      <td>January</td>\n",
              "      <td>11.99</td>\n",
              "    </tr>\n",
              "  </tbody>\n",
              "</table>\n",
              "</div>"
            ],
            "text/plain": [
              "  Order ID                   Product  ...    Month   Sales\n",
              "0   141234                    iPhone  ...  January  700.00\n",
              "1   141235  Lightning Charging Cable  ...  January   14.95\n",
              "2   141236          Wired Headphones  ...  January   23.98\n",
              "3   141237          27in FHD Monitor  ...  January  149.99\n",
              "4   141238          Wired Headphones  ...  January   11.99\n",
              "\n",
              "[5 rows x 8 columns]"
            ]
          },
          "metadata": {
            "tags": []
          },
          "execution_count": 27
        }
      ]
    },
    {
      "cell_type": "markdown",
      "metadata": {
        "id": "e9_8_nabjdYJ"
      },
      "source": [
        "Satış miktarını bulmak için yeni bir kolon oluşturdum."
      ]
    },
    {
      "cell_type": "code",
      "metadata": {
        "id": "9RIr7ai15ZD8"
      },
      "source": [
        "df['Sales']=df['Price Each']*df['Quantity Ordered']\n"
      ],
      "execution_count": 28,
      "outputs": []
    },
    {
      "cell_type": "code",
      "metadata": {
        "colab": {
          "base_uri": "https://localhost:8080/",
          "height": 452
        },
        "id": "b984w_xK6YZH",
        "outputId": "b910c16d-cf09-4a0f-f8b6-ce4cab39907d"
      },
      "source": [
        "df.groupby('Month',sort=False).sum()"
      ],
      "execution_count": 31,
      "outputs": [
        {
          "output_type": "execute_result",
          "data": {
            "text/html": [
              "<div>\n",
              "<style scoped>\n",
              "    .dataframe tbody tr th:only-of-type {\n",
              "        vertical-align: middle;\n",
              "    }\n",
              "\n",
              "    .dataframe tbody tr th {\n",
              "        vertical-align: top;\n",
              "    }\n",
              "\n",
              "    .dataframe thead th {\n",
              "        text-align: right;\n",
              "    }\n",
              "</style>\n",
              "<table border=\"1\" class=\"dataframe\">\n",
              "  <thead>\n",
              "    <tr style=\"text-align: right;\">\n",
              "      <th></th>\n",
              "      <th>Quantity Ordered</th>\n",
              "      <th>Price Each</th>\n",
              "      <th>Sales</th>\n",
              "    </tr>\n",
              "    <tr>\n",
              "      <th>Month</th>\n",
              "      <th></th>\n",
              "      <th></th>\n",
              "      <th></th>\n",
              "    </tr>\n",
              "  </thead>\n",
              "  <tbody>\n",
              "    <tr>\n",
              "      <th>January</th>\n",
              "      <td>10903</td>\n",
              "      <td>1.811768e+06</td>\n",
              "      <td>1.822257e+06</td>\n",
              "    </tr>\n",
              "    <tr>\n",
              "      <th>February</th>\n",
              "      <td>13449</td>\n",
              "      <td>2.188885e+06</td>\n",
              "      <td>2.202022e+06</td>\n",
              "    </tr>\n",
              "    <tr>\n",
              "      <th>March</th>\n",
              "      <td>17005</td>\n",
              "      <td>2.791208e+06</td>\n",
              "      <td>2.807100e+06</td>\n",
              "    </tr>\n",
              "    <tr>\n",
              "      <th>April</th>\n",
              "      <td>20558</td>\n",
              "      <td>3.367671e+06</td>\n",
              "      <td>3.390670e+06</td>\n",
              "    </tr>\n",
              "    <tr>\n",
              "      <th>May</th>\n",
              "      <td>18667</td>\n",
              "      <td>3.135125e+06</td>\n",
              "      <td>3.152607e+06</td>\n",
              "    </tr>\n",
              "    <tr>\n",
              "      <th>June</th>\n",
              "      <td>15253</td>\n",
              "      <td>2.562026e+06</td>\n",
              "      <td>2.577802e+06</td>\n",
              "    </tr>\n",
              "    <tr>\n",
              "      <th>July</th>\n",
              "      <td>16072</td>\n",
              "      <td>2.632540e+06</td>\n",
              "      <td>2.647776e+06</td>\n",
              "    </tr>\n",
              "    <tr>\n",
              "      <th>August</th>\n",
              "      <td>13448</td>\n",
              "      <td>2.230345e+06</td>\n",
              "      <td>2.244468e+06</td>\n",
              "    </tr>\n",
              "    <tr>\n",
              "      <th>September</th>\n",
              "      <td>13109</td>\n",
              "      <td>2.084992e+06</td>\n",
              "      <td>2.097560e+06</td>\n",
              "    </tr>\n",
              "    <tr>\n",
              "      <th>October</th>\n",
              "      <td>22703</td>\n",
              "      <td>3.715555e+06</td>\n",
              "      <td>3.736727e+06</td>\n",
              "    </tr>\n",
              "    <tr>\n",
              "      <th>November</th>\n",
              "      <td>19798</td>\n",
              "      <td>3.180601e+06</td>\n",
              "      <td>3.199603e+06</td>\n",
              "    </tr>\n",
              "    <tr>\n",
              "      <th>December</th>\n",
              "      <td>28114</td>\n",
              "      <td>4.588415e+06</td>\n",
              "      <td>4.613443e+06</td>\n",
              "    </tr>\n",
              "  </tbody>\n",
              "</table>\n",
              "</div>"
            ],
            "text/plain": [
              "           Quantity Ordered    Price Each         Sales\n",
              "Month                                                  \n",
              "January               10903  1.811768e+06  1.822257e+06\n",
              "February              13449  2.188885e+06  2.202022e+06\n",
              "March                 17005  2.791208e+06  2.807100e+06\n",
              "April                 20558  3.367671e+06  3.390670e+06\n",
              "May                   18667  3.135125e+06  3.152607e+06\n",
              "June                  15253  2.562026e+06  2.577802e+06\n",
              "July                  16072  2.632540e+06  2.647776e+06\n",
              "August                13448  2.230345e+06  2.244468e+06\n",
              "September             13109  2.084992e+06  2.097560e+06\n",
              "October               22703  3.715555e+06  3.736727e+06\n",
              "November              19798  3.180601e+06  3.199603e+06\n",
              "December              28114  4.588415e+06  4.613443e+06"
            ]
          },
          "metadata": {
            "tags": []
          },
          "execution_count": 31
        }
      ]
    },
    {
      "cell_type": "markdown",
      "metadata": {
        "id": "v5yMT_BOIVJc"
      },
      "source": [
        "En çok satış Aralık'ta yapılmış"
      ]
    },
    {
      "cell_type": "markdown",
      "metadata": {
        "id": "lxLLGnBYjrWM"
      },
      "source": [
        "En çok alım yapan şehri bulmak için veirden şehir bilgisini aldım ve yeni bir kolon oluşturdum."
      ]
    },
    {
      "cell_type": "code",
      "metadata": {
        "colab": {
          "base_uri": "https://localhost:8080/",
          "height": 419
        },
        "id": "gsmcRRsfJXWI",
        "outputId": "9df6b195-fd73-49ad-bee0-117cf42febd3"
      },
      "source": [
        "ct=df['Purchase Address'].str.split(\",\", n = 2, expand = True)\n",
        "df['City']=ct[1]\n",
        "df\n"
      ],
      "execution_count": 108,
      "outputs": [
        {
          "output_type": "execute_result",
          "data": {
            "text/html": [
              "<div>\n",
              "<style scoped>\n",
              "    .dataframe tbody tr th:only-of-type {\n",
              "        vertical-align: middle;\n",
              "    }\n",
              "\n",
              "    .dataframe tbody tr th {\n",
              "        vertical-align: top;\n",
              "    }\n",
              "\n",
              "    .dataframe thead th {\n",
              "        text-align: right;\n",
              "    }\n",
              "</style>\n",
              "<table border=\"1\" class=\"dataframe\">\n",
              "  <thead>\n",
              "    <tr style=\"text-align: right;\">\n",
              "      <th></th>\n",
              "      <th>Order ID</th>\n",
              "      <th>Product</th>\n",
              "      <th>Quantity Ordered</th>\n",
              "      <th>Price Each</th>\n",
              "      <th>Order Date</th>\n",
              "      <th>Purchase Address</th>\n",
              "      <th>Month</th>\n",
              "      <th>Sales</th>\n",
              "      <th>City</th>\n",
              "    </tr>\n",
              "  </thead>\n",
              "  <tbody>\n",
              "    <tr>\n",
              "      <th>0</th>\n",
              "      <td>141234</td>\n",
              "      <td>iPhone</td>\n",
              "      <td>1</td>\n",
              "      <td>700.00</td>\n",
              "      <td>01/22/19 21:25</td>\n",
              "      <td>944 Walnut St, Boston, MA 02215</td>\n",
              "      <td>January</td>\n",
              "      <td>700.00</td>\n",
              "      <td>Boston</td>\n",
              "    </tr>\n",
              "    <tr>\n",
              "      <th>1</th>\n",
              "      <td>141235</td>\n",
              "      <td>Lightning Charging Cable</td>\n",
              "      <td>1</td>\n",
              "      <td>14.95</td>\n",
              "      <td>01/28/19 14:15</td>\n",
              "      <td>185 Maple St, Portland, OR 97035</td>\n",
              "      <td>January</td>\n",
              "      <td>14.95</td>\n",
              "      <td>Portland</td>\n",
              "    </tr>\n",
              "    <tr>\n",
              "      <th>2</th>\n",
              "      <td>141236</td>\n",
              "      <td>Wired Headphones</td>\n",
              "      <td>2</td>\n",
              "      <td>11.99</td>\n",
              "      <td>01/17/19 13:33</td>\n",
              "      <td>538 Adams St, San Francisco, CA 94016</td>\n",
              "      <td>January</td>\n",
              "      <td>23.98</td>\n",
              "      <td>San Francisco</td>\n",
              "    </tr>\n",
              "    <tr>\n",
              "      <th>3</th>\n",
              "      <td>141237</td>\n",
              "      <td>27in FHD Monitor</td>\n",
              "      <td>1</td>\n",
              "      <td>149.99</td>\n",
              "      <td>01/05/19 20:33</td>\n",
              "      <td>738 10th St, Los Angeles, CA 90001</td>\n",
              "      <td>January</td>\n",
              "      <td>149.99</td>\n",
              "      <td>Los Angeles</td>\n",
              "    </tr>\n",
              "    <tr>\n",
              "      <th>4</th>\n",
              "      <td>141238</td>\n",
              "      <td>Wired Headphones</td>\n",
              "      <td>1</td>\n",
              "      <td>11.99</td>\n",
              "      <td>01/25/19 11:59</td>\n",
              "      <td>387 10th St, Austin, TX 73301</td>\n",
              "      <td>January</td>\n",
              "      <td>11.99</td>\n",
              "      <td>Austin</td>\n",
              "    </tr>\n",
              "    <tr>\n",
              "      <th>...</th>\n",
              "      <td>...</td>\n",
              "      <td>...</td>\n",
              "      <td>...</td>\n",
              "      <td>...</td>\n",
              "      <td>...</td>\n",
              "      <td>...</td>\n",
              "      <td>...</td>\n",
              "      <td>...</td>\n",
              "      <td>...</td>\n",
              "    </tr>\n",
              "    <tr>\n",
              "      <th>25112</th>\n",
              "      <td>319666</td>\n",
              "      <td>Lightning Charging Cable</td>\n",
              "      <td>1</td>\n",
              "      <td>14.95</td>\n",
              "      <td>12/11/19 20:58</td>\n",
              "      <td>14 Madison St, San Francisco, CA 94016</td>\n",
              "      <td>December</td>\n",
              "      <td>14.95</td>\n",
              "      <td>San Francisco</td>\n",
              "    </tr>\n",
              "    <tr>\n",
              "      <th>25113</th>\n",
              "      <td>319667</td>\n",
              "      <td>AA Batteries (4-pack)</td>\n",
              "      <td>2</td>\n",
              "      <td>3.84</td>\n",
              "      <td>12/01/19 12:01</td>\n",
              "      <td>549 Willow St, Los Angeles, CA 90001</td>\n",
              "      <td>December</td>\n",
              "      <td>7.68</td>\n",
              "      <td>Los Angeles</td>\n",
              "    </tr>\n",
              "    <tr>\n",
              "      <th>25114</th>\n",
              "      <td>319668</td>\n",
              "      <td>Vareebadd Phone</td>\n",
              "      <td>1</td>\n",
              "      <td>400.00</td>\n",
              "      <td>12/09/19 06:43</td>\n",
              "      <td>273 Wilson St, Seattle, WA 98101</td>\n",
              "      <td>December</td>\n",
              "      <td>400.00</td>\n",
              "      <td>Seattle</td>\n",
              "    </tr>\n",
              "    <tr>\n",
              "      <th>25115</th>\n",
              "      <td>319669</td>\n",
              "      <td>Wired Headphones</td>\n",
              "      <td>1</td>\n",
              "      <td>11.99</td>\n",
              "      <td>12/03/19 10:39</td>\n",
              "      <td>778 River St, Dallas, TX 75001</td>\n",
              "      <td>December</td>\n",
              "      <td>11.99</td>\n",
              "      <td>Dallas</td>\n",
              "    </tr>\n",
              "    <tr>\n",
              "      <th>25116</th>\n",
              "      <td>319670</td>\n",
              "      <td>Bose SoundSport Headphones</td>\n",
              "      <td>1</td>\n",
              "      <td>99.99</td>\n",
              "      <td>12/21/19 21:45</td>\n",
              "      <td>747 Chestnut St, Los Angeles, CA 90001</td>\n",
              "      <td>December</td>\n",
              "      <td>99.99</td>\n",
              "      <td>Los Angeles</td>\n",
              "    </tr>\n",
              "  </tbody>\n",
              "</table>\n",
              "<p>185950 rows × 9 columns</p>\n",
              "</div>"
            ],
            "text/plain": [
              "      Order ID                     Product  ...   Sales            City\n",
              "0       141234                      iPhone  ...  700.00          Boston\n",
              "1       141235    Lightning Charging Cable  ...   14.95        Portland\n",
              "2       141236            Wired Headphones  ...   23.98   San Francisco\n",
              "3       141237            27in FHD Monitor  ...  149.99     Los Angeles\n",
              "4       141238            Wired Headphones  ...   11.99          Austin\n",
              "...        ...                         ...  ...     ...             ...\n",
              "25112   319666    Lightning Charging Cable  ...   14.95   San Francisco\n",
              "25113   319667       AA Batteries (4-pack)  ...    7.68     Los Angeles\n",
              "25114   319668             Vareebadd Phone  ...  400.00         Seattle\n",
              "25115   319669            Wired Headphones  ...   11.99          Dallas\n",
              "25116   319670  Bose SoundSport Headphones  ...   99.99     Los Angeles\n",
              "\n",
              "[185950 rows x 9 columns]"
            ]
          },
          "metadata": {
            "tags": []
          },
          "execution_count": 108
        }
      ]
    },
    {
      "cell_type": "code",
      "metadata": {
        "colab": {
          "base_uri": "https://localhost:8080/",
          "height": 359
        },
        "id": "REHuZ_gnLcJx",
        "outputId": "6166ee4f-0509-4184-9c60-2594c9a70457"
      },
      "source": [
        "df.groupby('City',sort=True).sum()"
      ],
      "execution_count": 111,
      "outputs": [
        {
          "output_type": "execute_result",
          "data": {
            "text/html": [
              "<div>\n",
              "<style scoped>\n",
              "    .dataframe tbody tr th:only-of-type {\n",
              "        vertical-align: middle;\n",
              "    }\n",
              "\n",
              "    .dataframe tbody tr th {\n",
              "        vertical-align: top;\n",
              "    }\n",
              "\n",
              "    .dataframe thead th {\n",
              "        text-align: right;\n",
              "    }\n",
              "</style>\n",
              "<table border=\"1\" class=\"dataframe\">\n",
              "  <thead>\n",
              "    <tr style=\"text-align: right;\">\n",
              "      <th></th>\n",
              "      <th>Quantity Ordered</th>\n",
              "      <th>Price Each</th>\n",
              "      <th>Sales</th>\n",
              "    </tr>\n",
              "    <tr>\n",
              "      <th>City</th>\n",
              "      <th></th>\n",
              "      <th></th>\n",
              "      <th></th>\n",
              "    </tr>\n",
              "  </thead>\n",
              "  <tbody>\n",
              "    <tr>\n",
              "      <th>Atlanta</th>\n",
              "      <td>16602</td>\n",
              "      <td>2.779908e+06</td>\n",
              "      <td>2.795499e+06</td>\n",
              "    </tr>\n",
              "    <tr>\n",
              "      <th>Austin</th>\n",
              "      <td>11153</td>\n",
              "      <td>1.809874e+06</td>\n",
              "      <td>1.819582e+06</td>\n",
              "    </tr>\n",
              "    <tr>\n",
              "      <th>Boston</th>\n",
              "      <td>22528</td>\n",
              "      <td>3.637410e+06</td>\n",
              "      <td>3.661642e+06</td>\n",
              "    </tr>\n",
              "    <tr>\n",
              "      <th>Dallas</th>\n",
              "      <td>16730</td>\n",
              "      <td>2.752628e+06</td>\n",
              "      <td>2.767975e+06</td>\n",
              "    </tr>\n",
              "    <tr>\n",
              "      <th>Los Angeles</th>\n",
              "      <td>33289</td>\n",
              "      <td>5.421435e+06</td>\n",
              "      <td>5.452571e+06</td>\n",
              "    </tr>\n",
              "    <tr>\n",
              "      <th>New York City</th>\n",
              "      <td>27932</td>\n",
              "      <td>4.635371e+06</td>\n",
              "      <td>4.664317e+06</td>\n",
              "    </tr>\n",
              "    <tr>\n",
              "      <th>Portland</th>\n",
              "      <td>14053</td>\n",
              "      <td>2.307747e+06</td>\n",
              "      <td>2.320491e+06</td>\n",
              "    </tr>\n",
              "    <tr>\n",
              "      <th>San Francisco</th>\n",
              "      <td>50239</td>\n",
              "      <td>8.211462e+06</td>\n",
              "      <td>8.262204e+06</td>\n",
              "    </tr>\n",
              "    <tr>\n",
              "      <th>Seattle</th>\n",
              "      <td>16553</td>\n",
              "      <td>2.733296e+06</td>\n",
              "      <td>2.747755e+06</td>\n",
              "    </tr>\n",
              "  </tbody>\n",
              "</table>\n",
              "</div>"
            ],
            "text/plain": [
              "                Quantity Ordered    Price Each         Sales\n",
              "City                                                        \n",
              " Atlanta                   16602  2.779908e+06  2.795499e+06\n",
              " Austin                    11153  1.809874e+06  1.819582e+06\n",
              " Boston                    22528  3.637410e+06  3.661642e+06\n",
              " Dallas                    16730  2.752628e+06  2.767975e+06\n",
              " Los Angeles               33289  5.421435e+06  5.452571e+06\n",
              " New York City             27932  4.635371e+06  4.664317e+06\n",
              " Portland                  14053  2.307747e+06  2.320491e+06\n",
              " San Francisco             50239  8.211462e+06  8.262204e+06\n",
              " Seattle                   16553  2.733296e+06  2.747755e+06"
            ]
          },
          "metadata": {
            "tags": []
          },
          "execution_count": 111
        }
      ]
    },
    {
      "cell_type": "markdown",
      "metadata": {
        "id": "BVHsCM88j4W9"
      },
      "source": [
        "En çok satın alma yapan şehir San Francisco"
      ]
    },
    {
      "cell_type": "code",
      "metadata": {
        "colab": {
          "base_uri": "https://localhost:8080/",
          "height": 419
        },
        "id": "vFjMwaltL0lt",
        "outputId": "efbcdd11-3c65-4654-aa6c-a03706e6f27a"
      },
      "source": [
        "df"
      ],
      "execution_count": 112,
      "outputs": [
        {
          "output_type": "execute_result",
          "data": {
            "text/html": [
              "<div>\n",
              "<style scoped>\n",
              "    .dataframe tbody tr th:only-of-type {\n",
              "        vertical-align: middle;\n",
              "    }\n",
              "\n",
              "    .dataframe tbody tr th {\n",
              "        vertical-align: top;\n",
              "    }\n",
              "\n",
              "    .dataframe thead th {\n",
              "        text-align: right;\n",
              "    }\n",
              "</style>\n",
              "<table border=\"1\" class=\"dataframe\">\n",
              "  <thead>\n",
              "    <tr style=\"text-align: right;\">\n",
              "      <th></th>\n",
              "      <th>Order ID</th>\n",
              "      <th>Product</th>\n",
              "      <th>Quantity Ordered</th>\n",
              "      <th>Price Each</th>\n",
              "      <th>Order Date</th>\n",
              "      <th>Purchase Address</th>\n",
              "      <th>Month</th>\n",
              "      <th>Sales</th>\n",
              "      <th>City</th>\n",
              "    </tr>\n",
              "  </thead>\n",
              "  <tbody>\n",
              "    <tr>\n",
              "      <th>0</th>\n",
              "      <td>141234</td>\n",
              "      <td>iPhone</td>\n",
              "      <td>1</td>\n",
              "      <td>700.00</td>\n",
              "      <td>01/22/19 21:25</td>\n",
              "      <td>944 Walnut St, Boston, MA 02215</td>\n",
              "      <td>January</td>\n",
              "      <td>700.00</td>\n",
              "      <td>Boston</td>\n",
              "    </tr>\n",
              "    <tr>\n",
              "      <th>1</th>\n",
              "      <td>141235</td>\n",
              "      <td>Lightning Charging Cable</td>\n",
              "      <td>1</td>\n",
              "      <td>14.95</td>\n",
              "      <td>01/28/19 14:15</td>\n",
              "      <td>185 Maple St, Portland, OR 97035</td>\n",
              "      <td>January</td>\n",
              "      <td>14.95</td>\n",
              "      <td>Portland</td>\n",
              "    </tr>\n",
              "    <tr>\n",
              "      <th>2</th>\n",
              "      <td>141236</td>\n",
              "      <td>Wired Headphones</td>\n",
              "      <td>2</td>\n",
              "      <td>11.99</td>\n",
              "      <td>01/17/19 13:33</td>\n",
              "      <td>538 Adams St, San Francisco, CA 94016</td>\n",
              "      <td>January</td>\n",
              "      <td>23.98</td>\n",
              "      <td>San Francisco</td>\n",
              "    </tr>\n",
              "    <tr>\n",
              "      <th>3</th>\n",
              "      <td>141237</td>\n",
              "      <td>27in FHD Monitor</td>\n",
              "      <td>1</td>\n",
              "      <td>149.99</td>\n",
              "      <td>01/05/19 20:33</td>\n",
              "      <td>738 10th St, Los Angeles, CA 90001</td>\n",
              "      <td>January</td>\n",
              "      <td>149.99</td>\n",
              "      <td>Los Angeles</td>\n",
              "    </tr>\n",
              "    <tr>\n",
              "      <th>4</th>\n",
              "      <td>141238</td>\n",
              "      <td>Wired Headphones</td>\n",
              "      <td>1</td>\n",
              "      <td>11.99</td>\n",
              "      <td>01/25/19 11:59</td>\n",
              "      <td>387 10th St, Austin, TX 73301</td>\n",
              "      <td>January</td>\n",
              "      <td>11.99</td>\n",
              "      <td>Austin</td>\n",
              "    </tr>\n",
              "    <tr>\n",
              "      <th>...</th>\n",
              "      <td>...</td>\n",
              "      <td>...</td>\n",
              "      <td>...</td>\n",
              "      <td>...</td>\n",
              "      <td>...</td>\n",
              "      <td>...</td>\n",
              "      <td>...</td>\n",
              "      <td>...</td>\n",
              "      <td>...</td>\n",
              "    </tr>\n",
              "    <tr>\n",
              "      <th>25112</th>\n",
              "      <td>319666</td>\n",
              "      <td>Lightning Charging Cable</td>\n",
              "      <td>1</td>\n",
              "      <td>14.95</td>\n",
              "      <td>12/11/19 20:58</td>\n",
              "      <td>14 Madison St, San Francisco, CA 94016</td>\n",
              "      <td>December</td>\n",
              "      <td>14.95</td>\n",
              "      <td>San Francisco</td>\n",
              "    </tr>\n",
              "    <tr>\n",
              "      <th>25113</th>\n",
              "      <td>319667</td>\n",
              "      <td>AA Batteries (4-pack)</td>\n",
              "      <td>2</td>\n",
              "      <td>3.84</td>\n",
              "      <td>12/01/19 12:01</td>\n",
              "      <td>549 Willow St, Los Angeles, CA 90001</td>\n",
              "      <td>December</td>\n",
              "      <td>7.68</td>\n",
              "      <td>Los Angeles</td>\n",
              "    </tr>\n",
              "    <tr>\n",
              "      <th>25114</th>\n",
              "      <td>319668</td>\n",
              "      <td>Vareebadd Phone</td>\n",
              "      <td>1</td>\n",
              "      <td>400.00</td>\n",
              "      <td>12/09/19 06:43</td>\n",
              "      <td>273 Wilson St, Seattle, WA 98101</td>\n",
              "      <td>December</td>\n",
              "      <td>400.00</td>\n",
              "      <td>Seattle</td>\n",
              "    </tr>\n",
              "    <tr>\n",
              "      <th>25115</th>\n",
              "      <td>319669</td>\n",
              "      <td>Wired Headphones</td>\n",
              "      <td>1</td>\n",
              "      <td>11.99</td>\n",
              "      <td>12/03/19 10:39</td>\n",
              "      <td>778 River St, Dallas, TX 75001</td>\n",
              "      <td>December</td>\n",
              "      <td>11.99</td>\n",
              "      <td>Dallas</td>\n",
              "    </tr>\n",
              "    <tr>\n",
              "      <th>25116</th>\n",
              "      <td>319670</td>\n",
              "      <td>Bose SoundSport Headphones</td>\n",
              "      <td>1</td>\n",
              "      <td>99.99</td>\n",
              "      <td>12/21/19 21:45</td>\n",
              "      <td>747 Chestnut St, Los Angeles, CA 90001</td>\n",
              "      <td>December</td>\n",
              "      <td>99.99</td>\n",
              "      <td>Los Angeles</td>\n",
              "    </tr>\n",
              "  </tbody>\n",
              "</table>\n",
              "<p>185950 rows × 9 columns</p>\n",
              "</div>"
            ],
            "text/plain": [
              "      Order ID                     Product  ...   Sales            City\n",
              "0       141234                      iPhone  ...  700.00          Boston\n",
              "1       141235    Lightning Charging Cable  ...   14.95        Portland\n",
              "2       141236            Wired Headphones  ...   23.98   San Francisco\n",
              "3       141237            27in FHD Monitor  ...  149.99     Los Angeles\n",
              "4       141238            Wired Headphones  ...   11.99          Austin\n",
              "...        ...                         ...  ...     ...             ...\n",
              "25112   319666    Lightning Charging Cable  ...   14.95   San Francisco\n",
              "25113   319667       AA Batteries (4-pack)  ...    7.68     Los Angeles\n",
              "25114   319668             Vareebadd Phone  ...  400.00         Seattle\n",
              "25115   319669            Wired Headphones  ...   11.99          Dallas\n",
              "25116   319670  Bose SoundSport Headphones  ...   99.99     Los Angeles\n",
              "\n",
              "[185950 rows x 9 columns]"
            ]
          },
          "metadata": {
            "tags": []
          },
          "execution_count": 112
        }
      ]
    },
    {
      "cell_type": "markdown",
      "metadata": {
        "id": "xXcJhlErj_TA"
      },
      "source": [
        "En çok hangi saate sipariş verildiğini bulmak için veriden saat bilgisini split metoduyla aldım."
      ]
    },
    {
      "cell_type": "code",
      "metadata": {
        "colab": {
          "base_uri": "https://localhost:8080/",
          "height": 419
        },
        "id": "Jrm5CJwlRwRc",
        "outputId": "1655d7c7-39a4-47e9-99ef-37c8df9ad896"
      },
      "source": [
        "h=df['Order Date'].str.split(\" \", n = 1, expand = True)\n",
        "df['Hour']=h[1]\n",
        "df"
      ],
      "execution_count": 114,
      "outputs": [
        {
          "output_type": "execute_result",
          "data": {
            "text/html": [
              "<div>\n",
              "<style scoped>\n",
              "    .dataframe tbody tr th:only-of-type {\n",
              "        vertical-align: middle;\n",
              "    }\n",
              "\n",
              "    .dataframe tbody tr th {\n",
              "        vertical-align: top;\n",
              "    }\n",
              "\n",
              "    .dataframe thead th {\n",
              "        text-align: right;\n",
              "    }\n",
              "</style>\n",
              "<table border=\"1\" class=\"dataframe\">\n",
              "  <thead>\n",
              "    <tr style=\"text-align: right;\">\n",
              "      <th></th>\n",
              "      <th>Order ID</th>\n",
              "      <th>Product</th>\n",
              "      <th>Quantity Ordered</th>\n",
              "      <th>Price Each</th>\n",
              "      <th>Order Date</th>\n",
              "      <th>Purchase Address</th>\n",
              "      <th>Month</th>\n",
              "      <th>Sales</th>\n",
              "      <th>City</th>\n",
              "      <th>Hour</th>\n",
              "    </tr>\n",
              "  </thead>\n",
              "  <tbody>\n",
              "    <tr>\n",
              "      <th>0</th>\n",
              "      <td>141234</td>\n",
              "      <td>iPhone</td>\n",
              "      <td>1</td>\n",
              "      <td>700.00</td>\n",
              "      <td>01/22/19 21:25</td>\n",
              "      <td>944 Walnut St, Boston, MA 02215</td>\n",
              "      <td>January</td>\n",
              "      <td>700.00</td>\n",
              "      <td>Boston</td>\n",
              "      <td>21:25</td>\n",
              "    </tr>\n",
              "    <tr>\n",
              "      <th>1</th>\n",
              "      <td>141235</td>\n",
              "      <td>Lightning Charging Cable</td>\n",
              "      <td>1</td>\n",
              "      <td>14.95</td>\n",
              "      <td>01/28/19 14:15</td>\n",
              "      <td>185 Maple St, Portland, OR 97035</td>\n",
              "      <td>January</td>\n",
              "      <td>14.95</td>\n",
              "      <td>Portland</td>\n",
              "      <td>14:15</td>\n",
              "    </tr>\n",
              "    <tr>\n",
              "      <th>2</th>\n",
              "      <td>141236</td>\n",
              "      <td>Wired Headphones</td>\n",
              "      <td>2</td>\n",
              "      <td>11.99</td>\n",
              "      <td>01/17/19 13:33</td>\n",
              "      <td>538 Adams St, San Francisco, CA 94016</td>\n",
              "      <td>January</td>\n",
              "      <td>23.98</td>\n",
              "      <td>San Francisco</td>\n",
              "      <td>13:33</td>\n",
              "    </tr>\n",
              "    <tr>\n",
              "      <th>3</th>\n",
              "      <td>141237</td>\n",
              "      <td>27in FHD Monitor</td>\n",
              "      <td>1</td>\n",
              "      <td>149.99</td>\n",
              "      <td>01/05/19 20:33</td>\n",
              "      <td>738 10th St, Los Angeles, CA 90001</td>\n",
              "      <td>January</td>\n",
              "      <td>149.99</td>\n",
              "      <td>Los Angeles</td>\n",
              "      <td>20:33</td>\n",
              "    </tr>\n",
              "    <tr>\n",
              "      <th>4</th>\n",
              "      <td>141238</td>\n",
              "      <td>Wired Headphones</td>\n",
              "      <td>1</td>\n",
              "      <td>11.99</td>\n",
              "      <td>01/25/19 11:59</td>\n",
              "      <td>387 10th St, Austin, TX 73301</td>\n",
              "      <td>January</td>\n",
              "      <td>11.99</td>\n",
              "      <td>Austin</td>\n",
              "      <td>11:59</td>\n",
              "    </tr>\n",
              "    <tr>\n",
              "      <th>...</th>\n",
              "      <td>...</td>\n",
              "      <td>...</td>\n",
              "      <td>...</td>\n",
              "      <td>...</td>\n",
              "      <td>...</td>\n",
              "      <td>...</td>\n",
              "      <td>...</td>\n",
              "      <td>...</td>\n",
              "      <td>...</td>\n",
              "      <td>...</td>\n",
              "    </tr>\n",
              "    <tr>\n",
              "      <th>25112</th>\n",
              "      <td>319666</td>\n",
              "      <td>Lightning Charging Cable</td>\n",
              "      <td>1</td>\n",
              "      <td>14.95</td>\n",
              "      <td>12/11/19 20:58</td>\n",
              "      <td>14 Madison St, San Francisco, CA 94016</td>\n",
              "      <td>December</td>\n",
              "      <td>14.95</td>\n",
              "      <td>San Francisco</td>\n",
              "      <td>20:58</td>\n",
              "    </tr>\n",
              "    <tr>\n",
              "      <th>25113</th>\n",
              "      <td>319667</td>\n",
              "      <td>AA Batteries (4-pack)</td>\n",
              "      <td>2</td>\n",
              "      <td>3.84</td>\n",
              "      <td>12/01/19 12:01</td>\n",
              "      <td>549 Willow St, Los Angeles, CA 90001</td>\n",
              "      <td>December</td>\n",
              "      <td>7.68</td>\n",
              "      <td>Los Angeles</td>\n",
              "      <td>12:01</td>\n",
              "    </tr>\n",
              "    <tr>\n",
              "      <th>25114</th>\n",
              "      <td>319668</td>\n",
              "      <td>Vareebadd Phone</td>\n",
              "      <td>1</td>\n",
              "      <td>400.00</td>\n",
              "      <td>12/09/19 06:43</td>\n",
              "      <td>273 Wilson St, Seattle, WA 98101</td>\n",
              "      <td>December</td>\n",
              "      <td>400.00</td>\n",
              "      <td>Seattle</td>\n",
              "      <td>06:43</td>\n",
              "    </tr>\n",
              "    <tr>\n",
              "      <th>25115</th>\n",
              "      <td>319669</td>\n",
              "      <td>Wired Headphones</td>\n",
              "      <td>1</td>\n",
              "      <td>11.99</td>\n",
              "      <td>12/03/19 10:39</td>\n",
              "      <td>778 River St, Dallas, TX 75001</td>\n",
              "      <td>December</td>\n",
              "      <td>11.99</td>\n",
              "      <td>Dallas</td>\n",
              "      <td>10:39</td>\n",
              "    </tr>\n",
              "    <tr>\n",
              "      <th>25116</th>\n",
              "      <td>319670</td>\n",
              "      <td>Bose SoundSport Headphones</td>\n",
              "      <td>1</td>\n",
              "      <td>99.99</td>\n",
              "      <td>12/21/19 21:45</td>\n",
              "      <td>747 Chestnut St, Los Angeles, CA 90001</td>\n",
              "      <td>December</td>\n",
              "      <td>99.99</td>\n",
              "      <td>Los Angeles</td>\n",
              "      <td>21:45</td>\n",
              "    </tr>\n",
              "  </tbody>\n",
              "</table>\n",
              "<p>185950 rows × 10 columns</p>\n",
              "</div>"
            ],
            "text/plain": [
              "      Order ID                     Product  ...            City   Hour\n",
              "0       141234                      iPhone  ...          Boston  21:25\n",
              "1       141235    Lightning Charging Cable  ...        Portland  14:15\n",
              "2       141236            Wired Headphones  ...   San Francisco  13:33\n",
              "3       141237            27in FHD Monitor  ...     Los Angeles  20:33\n",
              "4       141238            Wired Headphones  ...          Austin  11:59\n",
              "...        ...                         ...  ...             ...    ...\n",
              "25112   319666    Lightning Charging Cable  ...   San Francisco  20:58\n",
              "25113   319667       AA Batteries (4-pack)  ...     Los Angeles  12:01\n",
              "25114   319668             Vareebadd Phone  ...         Seattle  06:43\n",
              "25115   319669            Wired Headphones  ...          Dallas  10:39\n",
              "25116   319670  Bose SoundSport Headphones  ...     Los Angeles  21:45\n",
              "\n",
              "[185950 rows x 10 columns]"
            ]
          },
          "metadata": {
            "tags": []
          },
          "execution_count": 114
        }
      ]
    },
    {
      "cell_type": "code",
      "metadata": {
        "id": "NfPBgy9BYWp-"
      },
      "source": [
        "ho=df.groupby(['Hour'])['Sales'].sum()"
      ],
      "execution_count": 166,
      "outputs": []
    },
    {
      "cell_type": "code",
      "metadata": {
        "colab": {
          "base_uri": "https://localhost:8080/"
        },
        "id": "HDu44kQGdR2Q",
        "outputId": "636f6031-37f1-49bc-c3af-fee202dd2aa7"
      },
      "source": [
        "ho.sort_values()"
      ],
      "execution_count": 169,
      "outputs": [
        {
          "output_type": "execute_result",
          "data": {
            "text/plain": [
              "Hour\n",
              "04:09      173.52\n",
              "03:59      177.29\n",
              "04:05      277.72\n",
              "03:57      317.63\n",
              "02:50      381.99\n",
              "           ...   \n",
              "19:20    52903.41\n",
              "20:13    53149.51\n",
              "19:16    54156.39\n",
              "12:21    54181.96\n",
              "19:01    54503.14\n",
              "Name: Sales, Length: 1440, dtype: float64"
            ]
          },
          "metadata": {
            "tags": []
          },
          "execution_count": 169
        }
      ]
    },
    {
      "cell_type": "markdown",
      "metadata": {
        "id": "OItQruC_kJWi"
      },
      "source": [
        "En çok alım saat 7 civarı olduğundan saat 7 gibi reklam verilmesi yararlı olmaktadır."
      ]
    },
    {
      "cell_type": "code",
      "metadata": {
        "colab": {
          "base_uri": "https://localhost:8080/",
          "height": 669
        },
        "id": "ciir504Lexu3",
        "outputId": "9a166e71-16f2-4984-91b9-afdd836ee7d6"
      },
      "source": [
        "Most_Product=df.groupby('Product')\n",
        "Most_Product.sum()"
      ],
      "execution_count": 175,
      "outputs": [
        {
          "output_type": "execute_result",
          "data": {
            "text/html": [
              "<div>\n",
              "<style scoped>\n",
              "    .dataframe tbody tr th:only-of-type {\n",
              "        vertical-align: middle;\n",
              "    }\n",
              "\n",
              "    .dataframe tbody tr th {\n",
              "        vertical-align: top;\n",
              "    }\n",
              "\n",
              "    .dataframe thead th {\n",
              "        text-align: right;\n",
              "    }\n",
              "</style>\n",
              "<table border=\"1\" class=\"dataframe\">\n",
              "  <thead>\n",
              "    <tr style=\"text-align: right;\">\n",
              "      <th></th>\n",
              "      <th>Quantity Ordered</th>\n",
              "      <th>Price Each</th>\n",
              "      <th>Sales</th>\n",
              "    </tr>\n",
              "    <tr>\n",
              "      <th>Product</th>\n",
              "      <th></th>\n",
              "      <th></th>\n",
              "      <th></th>\n",
              "    </tr>\n",
              "  </thead>\n",
              "  <tbody>\n",
              "    <tr>\n",
              "      <th>20in Monitor</th>\n",
              "      <td>4129</td>\n",
              "      <td>451068.99</td>\n",
              "      <td>454148.71</td>\n",
              "    </tr>\n",
              "    <tr>\n",
              "      <th>27in 4K Gaming Monitor</th>\n",
              "      <td>6244</td>\n",
              "      <td>2429637.70</td>\n",
              "      <td>2435097.56</td>\n",
              "    </tr>\n",
              "    <tr>\n",
              "      <th>27in FHD Monitor</th>\n",
              "      <td>7550</td>\n",
              "      <td>1125974.93</td>\n",
              "      <td>1132424.50</td>\n",
              "    </tr>\n",
              "    <tr>\n",
              "      <th>34in Ultrawide Monitor</th>\n",
              "      <td>6199</td>\n",
              "      <td>2348718.19</td>\n",
              "      <td>2355558.01</td>\n",
              "    </tr>\n",
              "    <tr>\n",
              "      <th>AA Batteries (4-pack)</th>\n",
              "      <td>27635</td>\n",
              "      <td>79015.68</td>\n",
              "      <td>106118.40</td>\n",
              "    </tr>\n",
              "    <tr>\n",
              "      <th>AAA Batteries (4-pack)</th>\n",
              "      <td>31017</td>\n",
              "      <td>61716.59</td>\n",
              "      <td>92740.83</td>\n",
              "    </tr>\n",
              "    <tr>\n",
              "      <th>Apple Airpods Headphones</th>\n",
              "      <td>15661</td>\n",
              "      <td>2332350.00</td>\n",
              "      <td>2349150.00</td>\n",
              "    </tr>\n",
              "    <tr>\n",
              "      <th>Bose SoundSport Headphones</th>\n",
              "      <td>13457</td>\n",
              "      <td>1332366.75</td>\n",
              "      <td>1345565.43</td>\n",
              "    </tr>\n",
              "    <tr>\n",
              "      <th>Flatscreen TV</th>\n",
              "      <td>4819</td>\n",
              "      <td>1440000.00</td>\n",
              "      <td>1445700.00</td>\n",
              "    </tr>\n",
              "    <tr>\n",
              "      <th>Google Phone</th>\n",
              "      <td>5532</td>\n",
              "      <td>3315000.00</td>\n",
              "      <td>3319200.00</td>\n",
              "    </tr>\n",
              "    <tr>\n",
              "      <th>LG Dryer</th>\n",
              "      <td>646</td>\n",
              "      <td>387600.00</td>\n",
              "      <td>387600.00</td>\n",
              "    </tr>\n",
              "    <tr>\n",
              "      <th>LG Washing Machine</th>\n",
              "      <td>666</td>\n",
              "      <td>399600.00</td>\n",
              "      <td>399600.00</td>\n",
              "    </tr>\n",
              "    <tr>\n",
              "      <th>Lightning Charging Cable</th>\n",
              "      <td>23217</td>\n",
              "      <td>323787.10</td>\n",
              "      <td>347094.15</td>\n",
              "    </tr>\n",
              "    <tr>\n",
              "      <th>Macbook Pro Laptop</th>\n",
              "      <td>4728</td>\n",
              "      <td>8030800.00</td>\n",
              "      <td>8037600.00</td>\n",
              "    </tr>\n",
              "    <tr>\n",
              "      <th>ThinkPad Laptop</th>\n",
              "      <td>4130</td>\n",
              "      <td>4127958.72</td>\n",
              "      <td>4129958.70</td>\n",
              "    </tr>\n",
              "    <tr>\n",
              "      <th>USB-C Charging Cable</th>\n",
              "      <td>23975</td>\n",
              "      <td>261740.85</td>\n",
              "      <td>286501.25</td>\n",
              "    </tr>\n",
              "    <tr>\n",
              "      <th>Vareebadd Phone</th>\n",
              "      <td>2068</td>\n",
              "      <td>826000.00</td>\n",
              "      <td>827200.00</td>\n",
              "    </tr>\n",
              "    <tr>\n",
              "      <th>Wired Headphones</th>\n",
              "      <td>20557</td>\n",
              "      <td>226395.18</td>\n",
              "      <td>246478.43</td>\n",
              "    </tr>\n",
              "    <tr>\n",
              "      <th>iPhone</th>\n",
              "      <td>6849</td>\n",
              "      <td>4789400.00</td>\n",
              "      <td>4794300.00</td>\n",
              "    </tr>\n",
              "  </tbody>\n",
              "</table>\n",
              "</div>"
            ],
            "text/plain": [
              "                            Quantity Ordered  Price Each       Sales\n",
              "Product                                                             \n",
              "20in Monitor                            4129   451068.99   454148.71\n",
              "27in 4K Gaming Monitor                  6244  2429637.70  2435097.56\n",
              "27in FHD Monitor                        7550  1125974.93  1132424.50\n",
              "34in Ultrawide Monitor                  6199  2348718.19  2355558.01\n",
              "AA Batteries (4-pack)                  27635    79015.68   106118.40\n",
              "AAA Batteries (4-pack)                 31017    61716.59    92740.83\n",
              "Apple Airpods Headphones               15661  2332350.00  2349150.00\n",
              "Bose SoundSport Headphones             13457  1332366.75  1345565.43\n",
              "Flatscreen TV                           4819  1440000.00  1445700.00\n",
              "Google Phone                            5532  3315000.00  3319200.00\n",
              "LG Dryer                                 646   387600.00   387600.00\n",
              "LG Washing Machine                       666   399600.00   399600.00\n",
              "Lightning Charging Cable               23217   323787.10   347094.15\n",
              "Macbook Pro Laptop                      4728  8030800.00  8037600.00\n",
              "ThinkPad Laptop                         4130  4127958.72  4129958.70\n",
              "USB-C Charging Cable                   23975   261740.85   286501.25\n",
              "Vareebadd Phone                         2068   826000.00   827200.00\n",
              "Wired Headphones                       20557   226395.18   246478.43\n",
              "iPhone                                  6849  4789400.00  4794300.00"
            ]
          },
          "metadata": {
            "tags": []
          },
          "execution_count": 175
        }
      ]
    },
    {
      "cell_type": "markdown",
      "metadata": {
        "id": "aplmBkWtkmcv"
      },
      "source": [
        "En çok satan ürünleri listeledim. Ve bar grafiğinde çizdirdim."
      ]
    },
    {
      "cell_type": "code",
      "metadata": {
        "colab": {
          "base_uri": "https://localhost:8080/",
          "height": 394
        },
        "id": "CtExo7Whfjby",
        "outputId": "f18db50b-979c-4c09-d425-f743baa10735"
      },
      "source": [
        "ordered=Most_Product.sum()['Quantity Ordered']\n",
        "pr=[prd for prd,df in Most_Product]\n",
        "plt.bar(pr,ordered)\n",
        "plt.xticks(pr,rotation='vertical',size=8)\n",
        "plt.show"
      ],
      "execution_count": 182,
      "outputs": [
        {
          "output_type": "execute_result",
          "data": {
            "text/plain": [
              "<function matplotlib.pyplot.show>"
            ]
          },
          "metadata": {
            "tags": []
          },
          "execution_count": 182
        },
        {
          "output_type": "display_data",
          "data": {
            "image/png": "[encoded data removed]",
            "text/plain": [
              "<Figure size 432x288 with 1 Axes>"
            ]
          },
          "metadata": {
            "tags": [],
            "needs_background": "light"
          }
        }
      ]
    },
    {
      "cell_type": "markdown",
      "metadata": {
        "id": "1T4pOd4fa2SE"
      },
      "source": [
        "##Kaynakça"
      ]
    },
    {
      "cell_type": "markdown",
      "metadata": {
        "id": "-jnNNnura4UI"
      },
      "source": [
        "[E-Ticaret Nedir?](https://nesatilir.com/e-ticaret-nedir/)"
      ]
    }
  ]
}