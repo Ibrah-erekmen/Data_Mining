{
  "nbformat": 4,
  "nbformat_minor": 0,
  "metadata": {
    "colab": {
      "name": "Uzaklık_Metrikleri.ipynb",
      "provenance": [],
      "collapsed_sections": []
    },
    "kernelspec": {
      "name": "python3",
      "display_name": "Python 3"
    },
    "language_info": {
      "name": "python"
    }
  },
  "cells": [
    {
      "cell_type": "markdown",
      "metadata": {
        "id": "SMfpb4SaOfoU"
      },
      "source": [
        "# **Uzaklık Metrikleri**\n",
        "\n"
      ]
    },
    {
      "cell_type": "markdown",
      "metadata": {
        "id": "pjjgtzj0vvWx"
      },
      "source": [
        "##**Amaç ve kapsam**"
      ]
    },
    {
      "cell_type": "markdown",
      "metadata": {
        "id": "ZrdYEivFwDu9"
      },
      "source": [
        "Bu defterde uzaklık metriklerinin tanımlanması ve hazır kütütphaneler kullanılmadan bu metriklerin hesaplanması amaçlanmıştır."
      ]
    },
    {
      "cell_type": "markdown",
      "metadata": {
        "id": "aZspuiiGjsNk"
      },
      "source": [
        "##**Giriş**"
      ]
    },
    {
      "cell_type": "markdown",
      "metadata": {
        "id": "dieAVnnGvZPX"
      },
      "source": [
        "Mesafe metrikleri çeşitli makine öğrenmesi algoritmalarının önemli bir parçasıdır.\n",
        "Mesafe metriği, veri kümesindeki her öğe arasında bir ilişki metriği sağlayan mesafe işlevini kullanır.\n",
        "Mesafe metrikleri, algoritmaların içerikler arasındaki benzerlikleri tanımasına yardımcı olur. \n",
        "Daha basitleştirilmiş bir tanım kullanacak olursak bir mesafe işlevi, bir kümenin elemanları arasındaki mesafeyi sağlar. Mesafe sıfır ise, elemanlar eşdeğerdir, aksi takdirde birbirlerinden farklıdırlar.\n",
        "Bir mesafe fonksiyonu, mesafe metrikleri tarafından kullanılan matematiksel bir formülden başka bir şey değildir. Mesafe fonksiyonu farklı mesafe metrikleri arasında farklılık gösterir. \n",
        "Farklı mesafe metrikleri tanıyalım ve yaygın kullanım alanlarından bahsetmeye başlayalım."
      ]
    },
    {
      "cell_type": "code",
      "metadata": {
        "id": "WlDsde-wyyEH"
      },
      "source": [
        "import numpy as np "
      ],
      "execution_count": null,
      "outputs": []
    },
    {
      "cell_type": "markdown",
      "metadata": {
        "id": "QVTSFpDZjjj1"
      },
      "source": [
        "##**Minkowski Uzaklığı** (**Minkowski Distance**)"
      ]
    },
    {
      "cell_type": "markdown",
      "metadata": {
        "id": "FWpE-HEEO7Iv"
      },
      "source": [
        "Minkowski mesafesi Öklid uzayında bir metriktir. Öklid mesafesi ve Manhattan mesafesinin genelleştirilmesi ile oluşturulur.\n",
        "\n",
        "$P( x_{{1}},x_{{2}},.....,x_{{n}})$ ile $Q( y_{{1}},y_{{2}},.....,y_{{n}})$ olmak üzere Minkowski uzaklığı $ ({\\sum_{i=0}^n |(p_{{i}}-q_{{i}})^p}|)^\\frac{1}{p} $ formülü ile tanımlanır. Minkowski uzaklığının tipik kullanımı $ P=1$ ve $ P=2$'dir.   $ P=1$ için formül Manhattan uzaklığına $ P=2$ için Öklid uzaklığına eşittir.     "
      ]
    },
    {
      "cell_type": "markdown",
      "metadata": {
        "id": "iMQ4ZeDxVLcR"
      },
      "source": [
        "Formül P'nin farklı değerleri için çeşitli mesafe ölçülerine dönüşür.\n",
        "\n",
        "p = 1 - Manhattan mesafesi\n",
        "\n",
        "p = 2 - Öklid mesafesi\n",
        "\n",
        "p = ∞ - Chebyshev mesafesi"
      ]
    },
    {
      "cell_type": "code",
      "metadata": {
        "id": "o1vPGHzGCZkx"
      },
      "source": [
        "def Minkowski_Distance(x,y,r):\n",
        "  Minkowski_value=0\n",
        "  for i in range(len(x)):\n",
        "    Minkowski_value+=np.power(np.abs(x[i]-y[i]),r)\n",
        "  return np.power(Minkowski_value,1/r)"
      ],
      "execution_count": null,
      "outputs": []
    },
    {
      "cell_type": "code",
      "metadata": {
        "id": "ODJsTMBmH6uD"
      },
      "source": [
        "p1=(0,2)\n",
        "p2=(2,0)\n",
        "p3=(3,1)\n",
        "p4=(5,1)\n",
        "#örnek noktaların tanımlayalım."
      ],
      "execution_count": null,
      "outputs": []
    },
    {
      "cell_type": "code",
      "metadata": {
        "colab": {
          "base_uri": "https://localhost:8080/"
        },
        "id": "3piOB1QLQw4l",
        "outputId": "2a330a91-6b14-4dda-ae37-0d10da02284d"
      },
      "source": [
        "a=Minkowski_Distance(p1,p1,1)\n",
        "b=Minkowski_Distance(p1,p2,2)\n",
        "c=Minkowski_Distance(p1,p3,3)\n",
        "d=Minkowski_Distance(p1,p2,4)\n",
        "print(a,b,c,d,e)   "
      ],
      "execution_count": null,
      "outputs": [
        {
          "output_type": "stream",
          "text": [
            "0.0 2.8284271247461903 3.0365889718756622 2.378414230005442 1.0\n"
          ],
          "name": "stdout"
        }
      ]
    },
    {
      "cell_type": "markdown",
      "metadata": {
        "id": "VhFOkZTCjffG"
      },
      "source": [
        "##**Manhattan Uzaklığı**"
      ]
    },
    {
      "cell_type": "markdown",
      "metadata": {
        "id": "CzFI6-aB7FGN"
      },
      "source": [
        "Manhattan uzaklığı $p=$ $( p_{{1}},p_{{2}},.....,p_{{n}})$ ile $q=$ $( q_{{1}},q_{{2}},.....,q_{{n}})$ vektörü arasındaki  n boyutlu gerçek vektör uzayında sabit kartezyen kordinat sistemindeki kordiant eksenleri üzerindeki noktalar arasındaki çizgi parçalarının projeksiyonlarının toplamıdır. "
      ]
    },
    {
      "cell_type": "markdown",
      "metadata": {
        "id": "2cvJtMHOL09T"
      },
      "source": [
        "Veri kümeniz ayrık ve / veya ikili özniteliklere sahip olduğunda, Manhattan mesafesi, bu özniteliklerin değerleri içinde gerçekçi bir şekilde alınabilecek yolları hesaba kattığı için oldukça kullanışlıdır. Örneğin, Öklid mesafesinde, iki vektör arasında düz bir çizgi oluşturmak isteyelim, ancak gerçekte bu mümkün olmayabilir."
      ]
    },
    {
      "cell_type": "markdown",
      "metadata": {
        "id": "rkZexc7zpRyp"
      },
      "source": [
        "![200px-Manhattan_distance.svg.png](data:image/png;base64,iVBORw0KGgoAAAANSUhEUgAAAMgAAADICAYAAACtWK6eAAAABmJLR0QA/wD/AP+gvaeTAAATa0lEQVR4nO2df3BUVZbHv6eTpn/QCWmoaJQNglCuywiMo/ywdCrDzgqjJuk4BNaq2ZIszsiMBQgVZ2TRsRyhGMEpUVxFqFmnmS2FDay1/UgEHB2wFpBY7gw4JRazWRjUTKEtBJJOTOjud/cPE+x0h3df93vd/V73+VSlKrl1+p7bOf2pvrffu7cBhmEYhmEYhmGY3EGZPrC1tdUvi7nnnnsuEJHINMcQb7zxRrmqqiVaMZ2dnZGlS5dGjeZqaWnxeL1et1aMEGKgrq6uz2iurVu3OsePH+/TinE4HPG7776722gugGuWSc1KMx2UqqrnZTG7du2qAHAx0xxDxOPxQ0KIaVoxVVVVtQDajOZyu91PqKq6WiuGiLYAeMhorqqqqnmqqrZqxQgh/gRgutFcANcMGdTMkfGoGKYIYEEYRgMWhGE0YEEYRgMWhGE0YEEYRoOMP+ZlGCty9uxZnDlzBkIIVFdXY/z48Yb6SxFECEFtbW0VsgeqqirtvKSkpKK1tdXwu5TsghMAOBwOn54LYTpyaV5wGsRlRi4hhE8I7WtyQogSM3IBhV2zU6dOYdOmTfjiiy8AAEIIOBwOlJeXY9WqVbjxxhulNXM6nZfmz5/fm9iWciW9paVljNvtvmB00AyTKz788EOsXbsWfX0jXyj3er1obm7GzJkzZV29Vl9f/4PEBl6DMLZmYGAAGzduvKIcANDX14fNmzcjEomk3b/hNciMF17AmNOnjXbDMBnR1dWFty5cQPJE9TsAEnWIRCLYvXs3mpqa0urfsCC+zk6M6egw2g1TwJzHWOxGY05zliAI4NLlv+PxOI4cOZJ7QYZ4+9e/RtTrNas7poD4yycV+Mmjd+Us30/u24IloxzY9Nvh7T09PWn3ZZogUZ+PBWFGJJbwuli8+CNT+96zZw/Onx9+k/LqH23BGF9/iiBlZWVp98/XQZicUVPTiQULzJ2OC/EhduzYgWj0620lH5UCc5LiSkpKMGdOcqsc/hSLsTW1tbUYPXr01w2rgNoKoC3pKszo0aOxcOHCtPtnQRhb43a70dzcDK/XC6wC0AT4VWBKwsdaXq8Xy5YtM2eKtXDhwu62traxsgfq2Z0WjUYnulwuw9tFVVU9BGCqVgwR3UdEb5qQ6wkAKyW5XiGiR4zmEkLME0LslISdcDgcdxjNBRRuzWbMmPHErB2zVh6ceBB0jvAfJcDfugV8Ph+8Xi9WrVqFm266SVozp9N5KbktRZDB/chdskEpiiIdeDwev1BbW2t4++aePXvislsyVFWNBAIB6bhlKIrSryNsoLa21nCuUCgUIdI+FoCI4mbkAgq3ZrPfnX1bu7cd/rgfKz5ZgZunboLLOYCnn34aEyZMGArLqGa8SGfszXFsbEf7bH/cj3WfrUO1vxoulwslFEuUI2N4DcLYl+PYCOCnHtXTu+6zdaiOVpueggVh7MmgHADOrvlizWvZkANgQRg7kiAHHPj7GV/OOJetVCwIYy+S5MA0mHtpPgkWhLEPOZYDYEEYu5AHOQAWhLEDeZIDYEEYq5NHOQAWhLEyeZYDYEEYq2IBOQAWhLEiFpEDYEEYq2EhOQAWhLESFpMDYEEYq2BBOQAWhLECFpUDGPnoUZ/b7T6o47G3AMDtq1dj7IkT2LdzZ8qpJkKIY0QUNzpIIcRUIvJIYjqIyPBGHwDjAVRJYsIAPjaaSAgxhoimSGK+JKITRnMNcouOMZleszNnyrF8eQ1qajrR3PyHxJiOl8a9VLa/bP/VZfGy6FOfP/XnyZcm69mwlsywmv3DxAdQSr3Yd3rYZk09NdtXX1//eGLDSBumSqDjH6kHIvqmSf3oidF8oZlM5eCPIXQ+Lw9Mqoceclmz7WO3T9lfth+Dm52c1dHqb5iR+wroqdnJ5AaeYjF5IegP4vXy13F5J2CW9nMYhbfcFikXL45COKw5azWNM2fKh/1tFzkAFqRoOXLkWmzZovk15lnBTnIALAgD4Pbb/5qTPF1NP8c7NpIDYEGKnvvv/wiNjdk/nT/oD+KwzeQAeJHO5AC7TasSYUGYrGJnOYARpliVlZW9Fy9evFP2QIfD8TtZTCwWa3A4HL2yOB25tgGYpBWjqurjANqN5iKiB4joPknYHlVVNxvNBWC2w+FYJ4k5rarqgybkynnNgv7gJC05rFaz0tLSsyltyQ1z586NAXhLNig9x1jGYrGDixYtMuMYy4jsGEsiOhYIBKTjlqEoyndlMUT0aUNDg+FcoVDIpSNXxIxcQG5rdtehu3x7y/ZqvnPYoWa8SGfM5zg27sXeSrtOqxLhNQhjLoM3HpbHy2N2lwNgQRgzSbgrd+3na0/ZXQ6ABWHMIumW9euj1w/ke0hmwIIwxrHwfg6jsCCMMQpYDoAFYYxQ4HIALAiTKUUgB8CCMJlQJHIALAiTLkUkB8CCMOlQZHIALAijlyKUA2BBGD0UqRwAC8LIKGI5ABaE0aLI5QBYEOZKsBwARtgPcuDAAXdPT8+TZnTudrufVBTFjJvWZEeBAkCToijfNiFXjSxACDFHUZSnjSYSQkzWEVZlRi69uN3uJ+ccnXPbURyd7VE9vY+de6x1et/0xZDvtUrGdjUTQhwLBALDzitNESQcDrvcbvej6Y9xRFaa0YlsNyEAEFGjGbl0cvPgjyH0HM8phKgEYFY9pAT9wZVHPUeHdgKOro5W/zCTfuxYMyJ6DcAwQXiKxVzG7gcsZAMWhAHAclwJ3pNuIV58cQYOH74mJ7kiEefl31mOK8OCWIj+/pLLL1yfL5rVXEP9H5v7DD5gOa4IC2JBXnjhHVx3XXfW8/A7hxxegxQpLIc+WJAihOXQz0hTrEsAtul4rJ7jMIOD/RmCiBqFEGMlYftgwvcGEtEsIYTsa8hOADhkNBeACQC+JxnPeSHEbhNyAcCDOuQIonhr9l5yQ4ogixYt+hLAUtmgFEWRCtLf37/SpKNHbwOg+c8WQvxrIBBoM5pLUZRfAtD8ZxPRO3V1dQ8ZzRUKhe4hIk1BAHTW19dL66GH7//39x+UvXNwzYbDi/Ri4Tg2vg6eVqULr0GKgcEbD1mO9GFBCp2Eu3JZjvRhQQqZpFvWWY70YUEKFd7PYQosSCHCcpgGC1JosBymwoIUEiyH6bAghQLLkRVYkEKA5cgaLIjdYTmyCgtiZ1iOrMOC2BWWIyewIHaE5cgZLIjdYDlyCgtiJ1iOnJOyH2Tr1q3OqqqqBjM6d7lcDaFQqM9oP0KIMbIYIrojFAp5jeYCcKOO8UwOhUILjSYiom/pyDUmFAot/Nk1P/unkzhZP0qMurCsa9mGmu6amxDCTUbHkEwx10wI8XFDQ0N7YluKIH6/30tELemPMRUiCprRj05W6znK0yTmEdG8HOWasH3s9paTrpNDm50qqqPVm5Clp1rMNRs8evQHiW08xbI4fMBCfmFBLAzLkX94T7qELVumobt7VE5yHT587eXfWQ5rwIJIeP/9qxEOe3Ka878mvYy3WQ5LwILoZNu2t3OS5z8nbMP+a1pYDovAgujA642iqsrwJ59Sgv4g9vM7h6XgRbpF4DWHNRnpHSQO4H90PPYWWYAQ4hgRxdMeVWo/U4lIcyEghOggIsMnAgIYD/n364VhwpGZQogxRDRFSw4hxJdEdMJorkG4ZtqcTm4Y6ejRCIBbZSNSFEX6JXQDAwPfMekYyw+EENMkYSvr6+vNOsZytVYMEe026+jRoD/YqvXO4XA4Ourq6qT10APXjI8etRXN1zb/c8eoDp5WWRgWJF8cx8YOdCxgOawNL9LzweBduU7h7GI5rA0LkmsSbllf2rV0DcthbViQXJK0n+PO7js/yfeQGG1YkFzBm51sCQuSC1gO28KCZBuWw9awINmE5bA9LEi2YDkKAhYkG7AcBQMLYjYsR0HBgpgJy1FwsCBmwXIUJCyIGbAcBQsLYhSWo6BJud1dCEFtbW0VsgeqqirtvKSkpKK1tdWwhKqqlshiHA6Hr7W11W9CLreOMFdra6t/0d8s+kUf+paToM+nxaY1rD+7/ixaoXsMQgifENp7mIQQJWY8L4BrJsvldDovzZ8/vzexLUWQXbt2lbvd7vNpjvFKCf+ipyhmIITYKXuxmZhryW8qfrOkj/qGNjtdVR2tPqoiK891qqqqptRDD4VcMyHEEq2YgYEBPnrUDPiAheKBBUkTlqO4sN2W254eJ44cuVYeaBLhsAdebxQAy5EpTkcPri07krN8ntIw4qo5x8XaTpDz5z148cXpOc/LcmSOx3ke0ytfzGlOInPWNrYTJJHFi3Pzieofv/MMy2ESH51bnJM8qnCa0o9tBamp6cSCBR1ZzxP0B/EBy2EKnT016OhakO9hpAUv0jXgaRXDglwBloMBRphiLVy4sLutrW2s7IF6Ll5Fo9GJLperO9PBJeQ6BGCqVgwR3UdEb5qQ64mgP7hSSw4ieoWIHjGaSwgxTwixUxJ2wuFw3GE0F1DYNQOwUpJLWjOn03kpuS1FEPpq+d8lG5SiKLIQxOPxC7W1tWac8xqXXXFVVTUSCASk45Yx+93Zt7V722XvHAO1tbWGc4VCoYjsSyyJKG5GLqBwa6YoSr+OsIxqZttFelY4jo3taJ/N0ypmCF6DDDF4V65H9fSyHMwQLAgw7Jb1NV+seY3lYIZgQZL2c8z4csa5fA+JsQ7FLQhvdmIkFK8gLAejg+IUhOVgdFJ8grAcTBoUlyAsB5MmxSMIy8FkQHEIwnIwGVL4grAcjAEKWxCWgzFI4QrCcjAmUJiCsByMSRSeICwHYyIp+0FaWlp8brf7oBmdu1yug4qixI32o6rqFNnGIgDPzT80/9/2Y//VZfGy6FOfP3Vu8qXJ/w75HqFkxssChBCNiqLMSrvn1H7GyGJUVZ2iKMr7RnPpJdc1UxTlF0Zzwbya7auvr388sWGkDVMlAG5JY3BXhIi+aVI/0pjtY7dP2V+2f2gnoLM6Wv0NM3JfgcrBH0PoeV5E5IFJ9dBDLmtGRFPMyKUTPTU7mdxQEFMsPmCByRambLkNoxL/e8qPmFvPKfTGOHOmfNjfLAeTTUwRZDcasWLNPDO6SguWg8k2ph/acPvtfzW7yxHpavo53mE5mCxjqiD33/8RGhtzcxzoYZaDyQG2W6TztIrJJbYShOVgck3KFKuysrL34sWLd8oe6HA4fieLicViDQ6Ho1cWpyPXtqA/OElLDlVVHwfQbjQXET1ARPdJwvaoqrrZaC4Asx0OxzpJzGlVVR80IVfOawZgklaM1WpWWlp6NqUtuWHu3LkxAG/JBqXnGMtYLHZw0aJFho+xvOvQXb69ZXs13zmI6FggEJCOW4aiKN+VxRDRpw0NDYZzhUIhl45cETNyAbmt2Z49eyKyo0ftUDPrHz16HBv3Ym8lT6uYfGDtNcjgjYfl8fIYy8HkA+sKknBX7trP155iOZh8YE1Bkm5Zvz56/UC+h8QUJ9YThPdzMBbCWoKwHIzFsI4gLAdjQawhCMvBWJT8C8JyMBYmv4KwHIzFyZ8gLAdjA/IjCMvB2ITcC8JyMDYit4KwHIzNyJ0gLAdjQwwJ0tPTg3A4fPlvRVHw6quvoru7e3ggy8HYlJTj7w4cOODu6el5UvbA48ePP7phwwbs6+3FB+LHeAgvAfgXlJb+Ci6XC83Nzbj11lufW3/V+tuOeo7O9qie3sfOPbZjet/0tL+HnIiWCCE0T8UTQuwmov9Lt+8RqAEwRxLzRwBvGk0khJhMRI1aMUQUFkK8YjTXII/qiHkOgOGbQxNrVu46g5rq5ejsqcEfPmu+HGO1mgkhjgUCgZ2JbSkbpsLhsMvtdmv+Iz/99FNs2LABkUgEyXvGYrEYYrEYnn32WczaMWvlUc/RoZ2Ao6uj1T+UPIkrDVwaI3uhmczNgz+G0HM85+CLTM8L2yxWmtGJHWtGRK8BGCZIRlOs559/HpFIRDMm8qMIfj/h93zAAmNr0t5yGw6H0dnZqR20CkATQOcIy84sQ/U4loOxJ2kLcurUKaiqmtL+4398GT9d8jL+XArUjwMq4sCrAL71d5vh8XjMGCtjU7zOlMNCbIPhQxu+DQDYgpUuwD8GmA1gexS4XgA3eAXc7gGUlhj+ugnGxkRVHwAgLrJ/uLnZpC3IpEmT4HCkLl2e++1XP4mUlZVh/fr1uO666zIeIMPkk7QX6VdddRWqqqp0xVZUVLAcjK3J6FOsFStWwOfzacaMHj0aDz/8cEaDYhirMNIU6xKAbVoPmjhxIh555JEHn3nmGfT39yMe/3qNUVJSApfLheXLl+OGG24IDvZnCCJqFEKMlYTtA/CxCblmCSFkX0N2AsAho7kATADwPcl4zgshdpuQCwD0HGEaRPHW7L2UvjMdlKIooqurC6FQCO3t7eju7obP58PMmTNx7733Yty4cejv768w6RjLD4QQ07RihBC1gUCgzWguRVF+CWC1VgwRbamrq3vIaK5QKHQPEbVKcv2prq5uutFcwFc1k8VwzYZj6FMsv9+PpqYmNDU1GemGYSxL/vekM4yFYUEYRgMWhGE0YEEYRgMWhGE0YEEYRgMjH/NqXkwcxPAFJ+CrnWcA3pXEGL7gBABE9J4QQvbczLhICCHEx0SkmUsIIdlbkBZcM4ZhGIZhGIZhGAvz/94Cck7ORi4zAAAAAElFTkSuQmCC)"
      ]
    },
    {
      "cell_type": "markdown",
      "metadata": {
        "id": "UHd-ndwLpU4h"
      },
      "source": [
        "Öklid mesafesine karşı Taksi geometrisi: Taksi geometrisinde, kırmızı, sarı ve mavi yolların tümü 12 birim ile en kısa yol uzunluğuna sahiptir. Öklid .geometrisinde, yeşil çizginin uzunluğu $\\sqrt{6}*2$ yani yaklaşık olarak $8.49 $birim. "
      ]
    },
    {
      "cell_type": "code",
      "metadata": {
        "id": "-hNJcv1y53Mq"
      },
      "source": [
        "def Manhattan_Distance(x,y):\n",
        "  Manhattan_Distance_Value=0\n",
        "  for i in range(len(x) or len(y)):\n",
        "    Manhattan_Distance_Value+=np.abs(x[i]-y[i])\n",
        "  return Manhattan_Distance_Value"
      ],
      "execution_count": null,
      "outputs": []
    },
    {
      "cell_type": "code",
      "metadata": {
        "colab": {
          "base_uri": "https://localhost:8080/"
        },
        "id": "nMxrfCr_I9pU",
        "outputId": "c4194a68-4b45-4591-dfe0-ce9cd2efcaff"
      },
      "source": [
        "#Örnek kullanım\n",
        "P1=(1,2)\n",
        "P2=(3,5)\n",
        "Manhattan_Distance(P1,P2)"
      ],
      "execution_count": null,
      "outputs": [
        {
          "output_type": "execute_result",
          "data": {
            "text/plain": [
              "5"
            ]
          },
          "metadata": {
            "tags": []
          },
          "execution_count": 134
        }
      ]
    },
    {
      "cell_type": "markdown",
      "metadata": {
        "id": "Z13_OYMTjpRB"
      },
      "source": [
        "##**Öklid Uzaklığı (Euclidean Distance)**\n"
      ]
    },
    {
      "cell_type": "markdown",
      "metadata": {
        "id": "3AKw7DRNPP8h"
      },
      "source": [
        "Öklid uzaklığı iki nokta arasındaki doğrusal uzaklık olarak tanımlanır.\n",
        "n boyutlu öklid uzayda $P( p_{{1}},p_{{2}},.....,p_{{n}})$ ile $Q( q_{{1}},q_{{2}},.....,q_{{n}})$ noktaları arasındaki uzaklık $ \\sqrt{{\\sum_{i=0}^n\\ (p_{{i}}-q_{{i}})^2}}$ formülü ile hesaplanır."
      ]
    },
    {
      "cell_type": "markdown",
      "metadata": {
        "id": "Yt21rexKFkpm"
      },
      "source": [
        "Öklid mesafesi, düşük boyutlu verilere sahip olduğunuzda ve vektörlerin büyüklüğünün ölçülmesi önemli olduğunda harika çalışır. KNN ve HDBSCAN gibi yöntemler, düşük boyutlu verilerde Öklid mesafesi kullanılıyorsa mükemmel sonuçlar gösterir. Verilerimizin boyutsallığı arttıkça, Öklid mesafesini kullanmak dezavantajlıdır."
      ]
    },
    {
      "cell_type": "markdown",
      "metadata": {
        "id": "ObbZFpA6Gfef"
      },
      "source": [
        "K-nn: En yakın komşular algoritması sınıflandırma ve regresyon için kullanılır.\n",
        "\n",
        "DBSCAN:Gürültü ile uygulamaların yoğunluğa dayalı mekansal kümelenmesi (DBSCAN),  bir veri kümeleme algoritmasıdır. DBSCAN, en yaygın kümeleme algoritmalarından biridir ve aynı zamanda bilimsel literatürde en çok alıntılanmıştır."
      ]
    },
    {
      "cell_type": "code",
      "metadata": {
        "id": "hqHeRsOXNV_V"
      },
      "source": [
        "\n",
        "def Euclidean_Distance(x,y):\n",
        "  value=0 \n",
        "  for i in range(len(x)):\n",
        "    value+=np.square((x[i]-y[i]))\n",
        "  return (np.sqrt(value)) "
      ],
      "execution_count": null,
      "outputs": []
    },
    {
      "cell_type": "code",
      "metadata": {
        "colab": {
          "base_uri": "https://localhost:8080/"
        },
        "id": "KaDmlcco6zPu",
        "outputId": "23a56c8c-5f48-4b1f-affb-92ec246d41c0"
      },
      "source": [
        "x=np.array([p1,p2,p3,p4])\n",
        "for i in range(len(x)):\n",
        "  print('\\n')\n",
        "  for j in range(len(x)):\n",
        "    print(Euclidean_Distance(x[i],x[j]))\n",
        "     "
      ],
      "execution_count": null,
      "outputs": [
        {
          "output_type": "stream",
          "text": [
            "\n",
            "\n",
            "0.0\n",
            "2.8284271247461903\n",
            "3.1622776601683795\n",
            "5.0990195135927845\n",
            "\n",
            "\n",
            "2.8284271247461903\n",
            "0.0\n",
            "1.4142135623730951\n",
            "3.1622776601683795\n",
            "\n",
            "\n",
            "3.1622776601683795\n",
            "1.4142135623730951\n",
            "0.0\n",
            "2.0\n",
            "\n",
            "\n",
            "5.0990195135927845\n",
            "3.1622776601683795\n",
            "2.0\n",
            "0.0\n"
          ],
          "name": "stdout"
        }
      ]
    },
    {
      "cell_type": "code",
      "metadata": {
        "id": "M_7_v4kXTMyg",
        "colab": {
          "base_uri": "https://localhost:8080/"
        },
        "outputId": "25e79022-ad68-4220-8cc2-99eab74127aa"
      },
      "source": [
        "\n",
        "a=Euclidean_Distance(p1,p1)\n",
        "b=Euclidean_Distance(p1,p2)\n",
        "c=Euclidean_Distance(p1,p3)\n",
        "d=Euclidean_Distance(p1,p4)\n",
        "print(a,b,c,d)"
      ],
      "execution_count": null,
      "outputs": [
        {
          "output_type": "stream",
          "text": [
            "0.0 2.8284271247461903 3.1622776601683795 5.0990195135927845\n"
          ],
          "name": "stdout"
        }
      ]
    },
    {
      "cell_type": "markdown",
      "metadata": {
        "id": "wf5xYyIo92Bu"
      },
      "source": [
        "## **Chebyshev Uzaklığı** "
      ]
    },
    {
      "cell_type": "markdown",
      "metadata": {
        "id": "qpI1SmaT35Xz"
      },
      "source": [
        "Matematikte, Chebyshev mesafesi, maksimum metrik veya \"$L_{\\infty}$\" iki vektör arasındaki mesafenin herhangi bir koordinat boyutu boyunca farklılıklarının en büyüğü olduğu bir vektör uzayında tanımlanan bir metriktir. adını Pafnuty Chebyshev'den almıştır.\n",
        "Formülü ise şu şekildedir:\n",
        "\n",
        "Minkowski formülündeki $ ({\\sum_{i=0}^n |(p_{{i}}-q_{{i}})^p}|)^\\frac{1}{p} $ toplamda  \"$P_{\\infty}$\" durumunda eşitlik özniteliğin maksimum farkına eşittir.\n",
        "\n",
        "Formül $max({|(x_{1}- y_{1})|,|(x_{2}- y_{2})|,....,|(x_{n}- y_{n})|})$ olarak ifade edilir.\n"
      ]
    },
    {
      "cell_type": "markdown",
      "metadata": {
        "id": "IQjrOfBvTh5i"
      },
      "source": [
        "Chebyshev mesafesi, şahın bir kareden diğerine geçmesi için gereken minimum hamle sayısını çıkarmak için kullanılabilir.\n",
        "\n",
        "Uygulamada, chebyshev mesafesi genellikle depo lojistiğinde kullanılır, çünkü bir havai vincin bir nesneyi hareket ettirmek için harcadığı süreye çok benzerdir."
      ]
    },
    {
      "cell_type": "code",
      "metadata": {
        "id": "9IvxG8Yn96mc"
      },
      "source": [
        "def Chebyshev_Distance(x,y):\n",
        "  v=np.zeros(len(x))\n",
        "  for i in range(len(x)):\n",
        "    v=np.abs(x[i]-y[i])\n",
        "  return np.max(v)  "
      ],
      "execution_count": null,
      "outputs": []
    },
    {
      "cell_type": "code",
      "metadata": {
        "id": "VC2iIX0P9ylK",
        "colab": {
          "base_uri": "https://localhost:8080/"
        },
        "outputId": "91736d25-a298-4216-fae4-7c0f692f1ff2"
      },
      "source": [
        "c1=(2,8)\n",
        "c2=(6,3)\n",
        "Chebyshev_Distance(c1,c2)\n"
      ],
      "execution_count": null,
      "outputs": [
        {
          "output_type": "execute_result",
          "data": {
            "text/plain": [
              "5"
            ]
          },
          "metadata": {
            "tags": []
          },
          "execution_count": 7
        }
      ]
    },
    {
      "cell_type": "markdown",
      "metadata": {
        "id": "5PE3g7ukjKgM"
      },
      "source": [
        "##**Kosinüs Benzerliği \"Cosine Similarity\"**"
      ]
    },
    {
      "cell_type": "markdown",
      "metadata": {
        "id": "vp1nY-7yxiB6"
      },
      "source": [
        "Bir iç çarpım uzayının sıfın olmayan iki vektörü arasındaki benzerlik ölçütüdür.\n",
        "İki vektör arasındaki açının kosinüsüne eşit olacak şekilde tanımlanır.Kosinüs Benzerliği büyüklük değil yönelim yargısıdır. Aynı yönelimdeki iki vektörün benzerliği 1'dir. Diğer taraftan birbirine doksan derece yönelimli iki vektörün benzerliği ise 0'dır.\n",
        "\n",
        "Formüller üzerinden daha genel bir tanım yapacak olursak:\n",
        "Sıfır olmayan iki vektörün kosinüsü öklid nokta çarpımı formülü ile türetilebilir: \n",
        "$ A.B=\\|A\\|\\|B \\| \\cos (\\theta)$ \n",
        "\n",
        "İki öznitelik vektörü verildiğinde kosinüs benzerliği \n",
        "$\\left(\\frac{ A.B}{\\|A\\|\\|B \\|}\\right)$ olarak tanımlanır."
      ]
    },
    {
      "cell_type": "markdown",
      "metadata": {
        "id": "jfx28rjBI8BC"
      },
      "source": [
        "Kosinüs benzerliğini yüksek boyutlu verilere sahip olduğumuzda ve vektörlerin büyüklüğü önemli olmadığında kosinüs benzerliğini sıklıkla kullanırız. Metin analizleri için, veriler kelime sayımları ile temsil edildiğinde bu ölçü oldukça sık kullanılır."
      ]
    },
    {
      "cell_type": "code",
      "metadata": {
        "id": "8G3Pvf2ETgmQ"
      },
      "source": [
        "#vektörlerimizi tanımlayalım.\n",
        "d1=np.array([3,2,0,5,0,0,0,2,0,0])\n",
        "d2=np.array([1,0,0,0,0,0,0,1,0,2])"
      ],
      "execution_count": null,
      "outputs": []
    },
    {
      "cell_type": "code",
      "metadata": {
        "colab": {
          "base_uri": "https://localhost:8080/"
        },
        "id": "W67O0VcOzG6H",
        "outputId": "833b0b12-2bbd-4093-c570-34d8e2e5821b"
      },
      "source": [
        "np.dot(d1,d2) #iç çarpım yapmak için matrisleri nokta çarpımı yapmalıyız."
      ],
      "execution_count": null,
      "outputs": [
        {
          "output_type": "execute_result",
          "data": {
            "text/plain": [
              "5"
            ]
          },
          "metadata": {
            "tags": []
          },
          "execution_count": 5
        }
      ]
    },
    {
      "cell_type": "code",
      "metadata": {
        "id": "xaM1skk8zYK6"
      },
      "source": [
        "#Vektörlerin uzunluğunu döndüren fonksiyon yazdım.\n",
        "def array_length(x):\n",
        "  len=0\n",
        "  for i in range(np.size(x)):\n",
        "    len+=x[i]*x[i]\n",
        "  return np.sqrt(len)  \n"
      ],
      "execution_count": null,
      "outputs": []
    },
    {
      "cell_type": "code",
      "metadata": {
        "id": "SwZY3yJdy11m"
      },
      "source": [
        "# Cosine Similarity döndüren fonksiyon\n",
        "def Cosine_Similarity(x,y): \n",
        "  return np.dot(x,y)/(array_length(x)*array_length(y))"
      ],
      "execution_count": null,
      "outputs": []
    },
    {
      "cell_type": "code",
      "metadata": {
        "colab": {
          "base_uri": "https://localhost:8080/"
        },
        "id": "3327a_Ao2pcO",
        "outputId": "99100de6-48f6-45cb-91c5-b632e8385a14"
      },
      "source": [
        "Cosine_Similarity(d1,d2) #Fonksiyonu test edelim ."
      ],
      "execution_count": null,
      "outputs": [
        {
          "output_type": "execute_result",
          "data": {
            "text/plain": [
              "0.314970394174356"
            ]
          },
          "metadata": {
            "tags": []
          },
          "execution_count": 20
        }
      ]
    },
    {
      "cell_type": "markdown",
      "metadata": {
        "id": "lCu0aKhB4zHk"
      },
      "source": [
        "## **Hamming Distance**"
      ]
    },
    {
      "cell_type": "markdown",
      "metadata": {
        "id": "lHNHekxRjGwN"
      },
      "source": [
        "Aynı uzunluktaki iki vektör dizi(string) arasında,birbirine dönüşmesi için gerekli olan yer değiştirme sayısını verir. Daha yalın haliyle bir dizginin diğer dizgiden ne kadar farklı olduğunu gösterir.\n",
        "\n",
        "![hamming.jpg](data:image/jpeg;base64,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)\n",
        "\n",
        "Hamming mesafesini bulmak için 3-bit ikili sayı sistemini içeren küpü inceleyelim.\n",
        "Küpün her köşesinde 3 bitlik sayının alabileceği her ihtimal yazılmıştır. Bu ihtimaller arasında geçiş için gereken değiştirme miktarı 1'dir. Örnek olarak 010 sayısının 111 sayısına dönüşmesi küp üzerine iki mesafe gerektirmektedir ve iki ayrı yoldan ulaşılabilmektedir.  "
      ]
    },
    {
      "cell_type": "markdown",
      "metadata": {
        "id": "OzaUMlF8Kl6h"
      },
      "source": [
        "Hamming mesafesinin yaygın kullanım durumu ise veriler bilgisayar ağları üzerinden iletildiğinde hata içerir. Hatayı tahmin etmenin bir yolu olarak ikili bir kelimedeki bozuk bitlerin sayısını belirlemek için Hamming mesafesi kullanılabilir.\n",
        "Ayrıca, kategorik değişkenler arasındaki mesafeyi ölçmek için de kullanabilir."
      ]
    },
    {
      "cell_type": "code",
      "metadata": {
        "id": "wY5-rdDk2z7e"
      },
      "source": [
        "def Hamming_Distance(x,y):\n",
        "  hamming_distance_value=0\n",
        "  for i in range(len(y)):\n",
        "    if (x[i]!=y[i]):\n",
        "      hamming_distance_value+=1\n",
        "  return hamming_distance_value      "
      ],
      "execution_count": null,
      "outputs": []
    },
    {
      "cell_type": "code",
      "metadata": {
        "colab": {
          "base_uri": "https://localhost:8080/"
        },
        "id": "GXKscrIn5quy",
        "outputId": "cc149cbc-df88-4111-9026-9b95d641ddf5"
      },
      "source": [
        "s1=\"Biraz\"\n",
        "s2=\"Kiraz\"\n",
        "Hamming_Distance(s1,s2)\n"
      ],
      "execution_count": null,
      "outputs": [
        {
          "output_type": "execute_result",
          "data": {
            "text/plain": [
              "1"
            ]
          },
          "metadata": {
            "tags": []
          },
          "execution_count": 147
        }
      ]
    },
    {
      "cell_type": "markdown",
      "metadata": {
        "id": "P5Z7lzcvNuPo"
      },
      "source": [
        "##** **Korelasyon \"Correlation\"**"
      ]
    },
    {
      "cell_type": "markdown",
      "metadata": {
        "id": "d040FOn8jHqh"
      },
      "source": [
        "Korelasyon iki değişken arasındaki ilişkinin istatiksel bir ölçüsüdür.Bu ölçüt birbirleri arasında doğrusal bir ilişki gösteren değişkenlerde kullanılır.Verilerin uyumu bir görsel dağılım grafiğinde temsil edilebilir. Bu grafikten yararlanarak değişkenler arasındaki ilişkiyi değerlendirebilir ve bunların ilişkili olup olmadıklarına karar verebiliriz.\n",
        "\n",
        "Örneğin:\n",
        "\n",
        "![325px-Anscombe.svg.png](data:image/png;base64,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)\n",
        "\n",
        "Resimde korelasyon katsayı değerleri aynı olan  $\"r=0,81\"$ olan dört değişik örneklem veriyi görmekteyiz.\n"
      ]
    },
    {
      "cell_type": "markdown",
      "metadata": {
        "id": "m307oNF4q36p"
      },
      "source": [
        "Korelasyon hesabı için kullandığımız formül :\n",
        "\n",
        "$r_{xy}=\\left(\\frac{\\sum {(x_{i}-\\bar{x})*(y_{i}-\\bar{y})} }{\\sqrt{\\sum_{}((x_{i}-\\bar{x})^2)*(\\sum_{}(y_{i}-\\bar{y})^2)} }\\right)$"
      ]
    },
    {
      "cell_type": "markdown",
      "metadata": {
        "id": "x5-WPG4bv17_"
      },
      "source": [
        "$r_{xy}$:x ve y değişkenleri arasındaki doğrusal ilişkinin korelasyon katsayısı\n",
        "\n",
        "$x_{i}$ :Bir örnekteki x değişkeninin değerleri\n",
        "\n",
        "$\\bar{x}$: $x_{i}$  değişkeninin değerlerinin ortalaması\n",
        "\n",
        "$y_{i}$ - Bir örnekteki y değişkeninin değerleri\n",
        "\n",
        "$\\bar{y}$: $y_{i}$ değişkeninin değerlerinin ortalaması\n"
      ]
    },
    {
      "cell_type": "markdown",
      "metadata": {
        "id": "Qf-UdySQZJa_"
      },
      "source": [
        "Korelasyon (ilişki), iki değişkenin birlikte değişiminin bir ölçüsüdür.\n",
        "\n",
        "• Boy uzunluğu ile kilo arasındaki ilişki, yaş ile boy arasındaki ilişki,\n",
        "çalışma saati ve sınav puanı arasındaki ilişki, hava sıcaklığı ve\n",
        "doğalgaz tüketimi arasındaki ilişki eğer sayısal veriler varsa\n",
        "korelasyon katsayısı cinsinden gösterilebilir.\n",
        "\n",
        "• Korelasyon katsayısı matematiksel olarak -1 ile +1 arasında değerler\n",
        "alır.\n",
        "\n",
        "• Korelasyonun büyüklüğü (0-1) iki değişken arasındaki ilişkinin gücünü\n",
        "gösterirken işareti (+,-) değişkenlerin aynı yönde (+) artıp azaldığını\n",
        "ya da zıt yönlerde (-) artış ve azalış gösterdiğini belirtir.\n",
        "\n",
        "• Hava sıcaklığı ve doğalgaz tüketimi arasındaki ilişki negatiftir.\n",
        "\n",
        "• Çalışma saati ve sınav puanı arasındaki ilişki pozitif olabilir.\n",
        "\n",
        "• Eğer iki değişken arasında hiç ilişki yoksa korelasyon katsayısı sıfır ya\n",
        "da sıfıra yakın bulunur.\n",
        "\n",
        "• Eğer iki değişken birbiriyle yüzde yüz oranında ilişkili ise korelasyon\n",
        "maksimum (1) değeri (mükemmel ilişki) alır"
      ]
    },
    {
      "cell_type": "code",
      "metadata": {
        "id": "KYK2wmudJL_z"
      },
      "source": [
        "def Correlation(x,y):\n",
        "  Correlation_Value_1=0\n",
        "  Correlation_Value_x=0\n",
        "  Correlation_Value_y=0\n",
        "  for i in range(len(x) or len(y)):\n",
        "    Correlation_Value_1+=((x[i]-np.mean(x))*(y[i]-np.mean(y)))\n",
        "    Correlation_Value_x+=np.square(x[i]-np.mean(x))\n",
        "    Correlation_Value_y+=np.square(y[i]-np.mean(y))\n",
        "  Correlation_Value_2=(Correlation_Value_x*Correlation_Value_y)  \n",
        "  return (Correlation_Value_1/np.sqrt(Correlation_Value_2))  "
      ],
      "execution_count": null,
      "outputs": []
    },
    {
      "cell_type": "code",
      "metadata": {
        "id": "BkSb8iOKOoo7"
      },
      "source": [
        "C1=np.array([1691.75,1977.8,1884.09,2151.13,2519.36])\n",
        "C2=np.array([68.96,100.11,109.06,112.18,154.12])"
      ],
      "execution_count": null,
      "outputs": []
    },
    {
      "cell_type": "code",
      "metadata": {
        "colab": {
          "base_uri": "https://localhost:8080/"
        },
        "id": "QJrOo1V1PLxT",
        "outputId": "725d8111-b170-401a-cb63-0c831adccc98"
      },
      "source": [
        "Correlation(C1,C2)"
      ],
      "execution_count": null,
      "outputs": [
        {
          "output_type": "execute_result",
          "data": {
            "text/plain": [
              "0.9547046055084701"
            ]
          },
          "metadata": {
            "tags": []
          },
          "execution_count": 79
        }
      ]
    },
    {
      "cell_type": "markdown",
      "metadata": {
        "id": "35A65UcqRobG"
      },
      "source": [
        "##**Mahalanobis Distance**"
      ]
    },
    {
      "cell_type": "markdown",
      "metadata": {
        "id": "vTzqCA9XISKX"
      },
      "source": [
        "Mahalanobis mesafesi, kovaryans matrisi $S$ ile aynı dağılımın iki rastgele vektörü $ \\vec{x}$ ve $ \\vec{y}$ arasında bir farklılık ölçüsü olarak da tanımlanabilir.\n",
        "\n",
        "Formülü ise $ d({\\vec{x},\\vec{y})}=\\sqrt{(\\vec{x}-\\vec{y})^T\\mathrm{S}^{-1}(\\vec{x}-\\vec{y})} $ şeklindedir."
      ]
    },
    {
      "cell_type": "markdown",
      "metadata": {
        "id": "TBwScLVzd2Zx"
      },
      "source": [
        "Mahalanobis'in tanımına, 1927'deki ölçümlere dayanarak kafataslarının benzerliklerini belirleme problemi neden oldu.\n",
        "Mahalanobis mesafesi, küme analizi ve sınıflandırma tekniklerinde yaygın olarak kullanılmaktadır . Çok değişkenli istatistiksel testler için kullanılan Hotelling'in T-kare dağılımı ve denetimli sınıflandırma için kullanılan Fisher's Linear Discriminant Analysis ile yakından ilgilidir "
      ]
    },
    {
      "cell_type": "code",
      "metadata": {
        "id": "iAtSO1djNmgG"
      },
      "source": [
        "def Mahalanobis_Distance(x,y,Cov):\n",
        "  v1=np.dot(np.transpose(x-y),np.linalg.inv(Cov))\n",
        "  v2=np.dot(v1,(x-y))\n",
        "  return v2"
      ],
      "execution_count": null,
      "outputs": []
    },
    {
      "cell_type": "code",
      "metadata": {
        "colab": {
          "base_uri": "https://localhost:8080/"
        },
        "id": "XEE2j3PmOF14",
        "outputId": "f9c7482e-9dab-4748-e190-6883e22ff3c7"
      },
      "source": [
        "A=np.array([0.5,0.5])\n",
        "B=np.array([0,1])\n",
        "C=np.array([1.5,1.5])\n",
        "Cov= np.array([[0.3,0.2],[0.2,0.3]])\n",
        "c=Mahalanobis_Distance(A,B,Cov)\n"
      ],
      "execution_count": null,
      "outputs": [
        {
          "output_type": "execute_result",
          "data": {
            "text/plain": [
              "5.000000000000002"
            ]
          },
          "metadata": {
            "tags": []
          },
          "execution_count": 17
        }
      ]
    },
    {
      "cell_type": "markdown",
      "metadata": {
        "id": "iGeUDx22iYCi"
      },
      "source": [
        "##**Kaynakça**"
      ]
    },
    {
      "cell_type": "markdown",
      "metadata": {
        "id": "LBV4JOHFik2g"
      },
      "source": [
        "Kaynakça bölümünde uzaklık metrikleri ile ilgili bilgi edindiğim internet sitelerine ulaşabilirsiniz."
      ]
    },
    {
      "cell_type": "markdown",
      "metadata": {
        "id": "9yVUldAqIaLH"
      },
      "source": [
        "Uzaklık metriklerinın dezavantajları yaygın kullanım alanları ile ilgili detaylı bilgiye [buradan](https://towardsdatascience.com/9-distance-measures-in-data-science-918109d069fa) ulaşabilirsiniz."
      ]
    },
    {
      "cell_type": "markdown",
      "metadata": {
        "id": "CTmQswDBi_CX"
      },
      "source": [
        "[Öklid Uzaklığı](https://tr.wikipedia.org/wiki/%C3%96klid_uzakl%C4%B1%C4%9F%C4%B1)"
      ]
    },
    {
      "cell_type": "markdown",
      "metadata": {
        "id": "1ghiM71WicVc"
      },
      "source": [
        "[Hamming Uzaklığı](http://bilgisayarkavramlari.com/2008/08/05/hamming-mesafesi-hamming-distance/)"
      ]
    },
    {
      "cell_type": "markdown",
      "metadata": {
        "id": "CSl1TYvzi_TT"
      },
      "source": [
        "[Kosinüs Benzerliği](https://en.wikipedia.org/wiki/Cosine_similarity)"
      ]
    },
    {
      "cell_type": "markdown",
      "metadata": {
        "id": "hm9sfo6yi_5m"
      },
      "source": [
        "[Manhattan Uzaklığı](https://en.wikipedia.org/wiki/Taxicab_geometry)"
      ]
    },
    {
      "cell_type": "markdown",
      "metadata": {
        "id": "f2Wj0Pwl5V26"
      },
      "source": [
        "[Chebyshev Uzaklığı](https://en.wikipedia.org/wiki/Chebyshev_distance)"
      ]
    },
    {
      "cell_type": "markdown",
      "metadata": {
        "id": "xwfFJfzFQ--Q"
      },
      "source": [
        "[Minkowski Mesafesi](https://tr.wikipedia.org/wiki/Minkowski_mesafesi)"
      ]
    },
    {
      "cell_type": "markdown",
      "metadata": {
        "id": "XPI7VOP7TUIw"
      },
      "source": [
        "[Mahalanobis Uzaklığı](https://en.wikipedia.org/wiki/Mahalanobis_distance)"
      ]
    },
    {
      "cell_type": "markdown",
      "metadata": {
        "id": "MiXgn6vRi_iq"
      },
      "source": [
        "[Korelasyon](https://corporatefinanceinstitute.com/resources/knowledge/finance/correlation/#:~:text=For%20the%20x%2Dvariable%2C%20subtract,the%20numerator%20in%20the%20formula) \n",
        "\n",
        "Ayrıca kolerasyon için detaylı bilgiye [buradan](https://sedatsen.files.wordpress.com/2016/11/7-sunum.pdf) ulaşabilirsiz. "
      ]
    }
  ]
}